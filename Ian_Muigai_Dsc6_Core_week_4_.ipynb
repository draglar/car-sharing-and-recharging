{
  "nbformat": 4,
  "nbformat_minor": 0,
  "metadata": {
    "colab": {
      "name": "Ian_Muigai_Dsc6_Core_week_4_.ipynb",
      "provenance": [],
      "collapsed_sections": [
        "i1DRFLR22sGh",
        "TBmH5SbktIK9",
        "CjMb6G1BtZBf",
        "MP0VrxhgdK3B"
      ],
      "toc_visible": true,
      "authorship_tag": "ABX9TyNvm1LjHb+mpeWJnKI0qe7I",
      "include_colab_link": true
    },
    "kernelspec": {
      "name": "python3",
      "display_name": "Python 3"
    }
  },
  "cells": [
    {
      "cell_type": "markdown",
      "metadata": {
        "id": "view-in-github",
        "colab_type": "text"
      },
      "source": [
        "<a href=\"https://colab.research.google.com/github/draglar/car-sharing-and-recharging/blob/main/Ian_Muigai_Dsc6_Core_week_4_.ipynb\" target=\"_parent\"><img src=\"https://colab.research.google.com/assets/colab-badge.svg\" alt=\"Open In Colab\"/></a>"
      ]
    },
    {
      "cell_type": "markdown",
      "metadata": {
        "id": "JgvK2ds6R894"
      },
      "source": [
        "We have been tasked to understand electric car usage by solving for another research question therefore we need to perform hypothesis testing with regards to the claim that we will have made.\n",
        "\n",
        "Steps to follow when solving the research question\n",
        "* Find and deal with outliers, anomalies, and missing data within the dataset.\n",
        "* Plot appropriate univariate and bivariate summaries recording our observations.\n",
        "* Implement the solution by performing hypothesis testing.\n"
      ]
    },
    {
      "cell_type": "markdown",
      "metadata": {
        "id": "LSr_K-JESyx6"
      },
      "source": [
        "###Importing the datasets"
      ]
    },
    {
      "cell_type": "code",
      "metadata": {
        "id": "u06pAqHh0PJ9"
      },
      "source": [
        "import pandas as pd\n",
        "import numpy as np\n",
        "import matplotlib.pyplot as plt\n",
        "import seaborn as sns"
      ],
      "execution_count": 1,
      "outputs": []
    },
    {
      "cell_type": "code",
      "metadata": {
        "id": "3yCZj5WScqSG"
      },
      "source": [
        "from datetime import datetime"
      ],
      "execution_count": 2,
      "outputs": []
    },
    {
      "cell_type": "code",
      "metadata": {
        "id": "qsuC5bc200xO"
      },
      "source": [
        "autolib=pd.read_csv('autolib_daily_events_postal_code (1).csv')\n",
        "descript=pd.read_excel('columns_explanation (1).xlsx')"
      ],
      "execution_count": 3,
      "outputs": []
    },
    {
      "cell_type": "markdown",
      "metadata": {
        "id": "i1DRFLR22sGh"
      },
      "source": [
        "###reading the data"
      ]
    },
    {
      "cell_type": "code",
      "metadata": {
        "id": "OOSX07xE1KH1",
        "outputId": "a90d7639-2db6-4da1-b6ff-9c8cfb483197",
        "colab": {
          "base_uri": "https://localhost:8080/",
          "height": 227
        }
      },
      "source": [
        "autolib.head()"
      ],
      "execution_count": 5,
      "outputs": [
        {
          "output_type": "execute_result",
          "data": {
            "text/html": [
              "<div>\n",
              "<style scoped>\n",
              "    .dataframe tbody tr th:only-of-type {\n",
              "        vertical-align: middle;\n",
              "    }\n",
              "\n",
              "    .dataframe tbody tr th {\n",
              "        vertical-align: top;\n",
              "    }\n",
              "\n",
              "    .dataframe thead th {\n",
              "        text-align: right;\n",
              "    }\n",
              "</style>\n",
              "<table border=\"1\" class=\"dataframe\">\n",
              "  <thead>\n",
              "    <tr style=\"text-align: right;\">\n",
              "      <th></th>\n",
              "      <th>Postal code</th>\n",
              "      <th>date</th>\n",
              "      <th>n_daily_data_points</th>\n",
              "      <th>dayOfWeek</th>\n",
              "      <th>day_type</th>\n",
              "      <th>BlueCars_taken_sum</th>\n",
              "      <th>BlueCars_returned_sum</th>\n",
              "      <th>Utilib_taken_sum</th>\n",
              "      <th>Utilib_returned_sum</th>\n",
              "      <th>Utilib_14_taken_sum</th>\n",
              "      <th>Utilib_14_returned_sum</th>\n",
              "      <th>Slots_freed_sum</th>\n",
              "      <th>Slots_taken_sum</th>\n",
              "    </tr>\n",
              "  </thead>\n",
              "  <tbody>\n",
              "    <tr>\n",
              "      <th>0</th>\n",
              "      <td>75001</td>\n",
              "      <td>1/1/2018</td>\n",
              "      <td>1440</td>\n",
              "      <td>0</td>\n",
              "      <td>weekday</td>\n",
              "      <td>110</td>\n",
              "      <td>103</td>\n",
              "      <td>3</td>\n",
              "      <td>2</td>\n",
              "      <td>10</td>\n",
              "      <td>9</td>\n",
              "      <td>22</td>\n",
              "      <td>20</td>\n",
              "    </tr>\n",
              "    <tr>\n",
              "      <th>1</th>\n",
              "      <td>75001</td>\n",
              "      <td>1/2/2018</td>\n",
              "      <td>1438</td>\n",
              "      <td>1</td>\n",
              "      <td>weekday</td>\n",
              "      <td>98</td>\n",
              "      <td>94</td>\n",
              "      <td>1</td>\n",
              "      <td>1</td>\n",
              "      <td>8</td>\n",
              "      <td>8</td>\n",
              "      <td>23</td>\n",
              "      <td>22</td>\n",
              "    </tr>\n",
              "    <tr>\n",
              "      <th>2</th>\n",
              "      <td>75001</td>\n",
              "      <td>1/3/2018</td>\n",
              "      <td>1439</td>\n",
              "      <td>2</td>\n",
              "      <td>weekday</td>\n",
              "      <td>138</td>\n",
              "      <td>139</td>\n",
              "      <td>0</td>\n",
              "      <td>0</td>\n",
              "      <td>2</td>\n",
              "      <td>2</td>\n",
              "      <td>27</td>\n",
              "      <td>27</td>\n",
              "    </tr>\n",
              "    <tr>\n",
              "      <th>3</th>\n",
              "      <td>75001</td>\n",
              "      <td>1/4/2018</td>\n",
              "      <td>1320</td>\n",
              "      <td>3</td>\n",
              "      <td>weekday</td>\n",
              "      <td>104</td>\n",
              "      <td>104</td>\n",
              "      <td>2</td>\n",
              "      <td>2</td>\n",
              "      <td>9</td>\n",
              "      <td>8</td>\n",
              "      <td>25</td>\n",
              "      <td>21</td>\n",
              "    </tr>\n",
              "    <tr>\n",
              "      <th>4</th>\n",
              "      <td>75001</td>\n",
              "      <td>1/5/2018</td>\n",
              "      <td>1440</td>\n",
              "      <td>4</td>\n",
              "      <td>weekday</td>\n",
              "      <td>114</td>\n",
              "      <td>117</td>\n",
              "      <td>3</td>\n",
              "      <td>3</td>\n",
              "      <td>6</td>\n",
              "      <td>6</td>\n",
              "      <td>18</td>\n",
              "      <td>20</td>\n",
              "    </tr>\n",
              "  </tbody>\n",
              "</table>\n",
              "</div>"
            ],
            "text/plain": [
              "   Postal code      date  ...  Slots_freed_sum  Slots_taken_sum\n",
              "0        75001  1/1/2018  ...               22               20\n",
              "1        75001  1/2/2018  ...               23               22\n",
              "2        75001  1/3/2018  ...               27               27\n",
              "3        75001  1/4/2018  ...               25               21\n",
              "4        75001  1/5/2018  ...               18               20\n",
              "\n",
              "[5 rows x 13 columns]"
            ]
          },
          "metadata": {
            "tags": []
          },
          "execution_count": 5
        }
      ]
    },
    {
      "cell_type": "code",
      "metadata": {
        "id": "myLTtUko1NU5",
        "outputId": "b6e42146-db65-4ae1-cb39-5851eb0af70d",
        "colab": {
          "base_uri": "https://localhost:8080/",
          "height": 421
        }
      },
      "source": [
        "descript"
      ],
      "execution_count": 6,
      "outputs": [
        {
          "output_type": "execute_result",
          "data": {
            "text/html": [
              "<div>\n",
              "<style scoped>\n",
              "    .dataframe tbody tr th:only-of-type {\n",
              "        vertical-align: middle;\n",
              "    }\n",
              "\n",
              "    .dataframe tbody tr th {\n",
              "        vertical-align: top;\n",
              "    }\n",
              "\n",
              "    .dataframe thead th {\n",
              "        text-align: right;\n",
              "    }\n",
              "</style>\n",
              "<table border=\"1\" class=\"dataframe\">\n",
              "  <thead>\n",
              "    <tr style=\"text-align: right;\">\n",
              "      <th></th>\n",
              "      <th>Column name</th>\n",
              "      <th>explanation</th>\n",
              "    </tr>\n",
              "  </thead>\n",
              "  <tbody>\n",
              "    <tr>\n",
              "      <th>0</th>\n",
              "      <td>Postal code</td>\n",
              "      <td>postal code of the area (in Paris)</td>\n",
              "    </tr>\n",
              "    <tr>\n",
              "      <th>1</th>\n",
              "      <td>date</td>\n",
              "      <td>date of the row aggregation</td>\n",
              "    </tr>\n",
              "    <tr>\n",
              "      <th>2</th>\n",
              "      <td>n_daily_data_points</td>\n",
              "      <td>number of daily data poinst that were availabl...</td>\n",
              "    </tr>\n",
              "    <tr>\n",
              "      <th>3</th>\n",
              "      <td>dayOfWeek</td>\n",
              "      <td>identifier of weekday (0: Monday -&gt; 6: Sunday)</td>\n",
              "    </tr>\n",
              "    <tr>\n",
              "      <th>4</th>\n",
              "      <td>day_type</td>\n",
              "      <td>weekday or weekend</td>\n",
              "    </tr>\n",
              "    <tr>\n",
              "      <th>5</th>\n",
              "      <td>BlueCars_taken_sum</td>\n",
              "      <td>Number of bluecars taken that date in that area</td>\n",
              "    </tr>\n",
              "    <tr>\n",
              "      <th>6</th>\n",
              "      <td>BlueCars_returned_sum</td>\n",
              "      <td>Number of bluecars returned that date in that ...</td>\n",
              "    </tr>\n",
              "    <tr>\n",
              "      <th>7</th>\n",
              "      <td>Utilib_taken_sum</td>\n",
              "      <td>Number of Utilib taken that date in that area</td>\n",
              "    </tr>\n",
              "    <tr>\n",
              "      <th>8</th>\n",
              "      <td>Utilib_returned_sum</td>\n",
              "      <td>Number of Utilib returned that date in that area</td>\n",
              "    </tr>\n",
              "    <tr>\n",
              "      <th>9</th>\n",
              "      <td>Utilib_14_taken_sum</td>\n",
              "      <td>Number of Utilib 1.4 taken that date in that area</td>\n",
              "    </tr>\n",
              "    <tr>\n",
              "      <th>10</th>\n",
              "      <td>Utilib_14_returned_sum</td>\n",
              "      <td>Number of Utilib 1.4 returned that date in tha...</td>\n",
              "    </tr>\n",
              "    <tr>\n",
              "      <th>11</th>\n",
              "      <td>Slots_freed_sum</td>\n",
              "      <td>Number of recharging slots released that date ...</td>\n",
              "    </tr>\n",
              "    <tr>\n",
              "      <th>12</th>\n",
              "      <td>Slots_taken_sum</td>\n",
              "      <td>Number of rechargign slots taken that date in ...</td>\n",
              "    </tr>\n",
              "  </tbody>\n",
              "</table>\n",
              "</div>"
            ],
            "text/plain": [
              "               Column name                                        explanation\n",
              "0              Postal code                 postal code of the area (in Paris)\n",
              "1                     date                        date of the row aggregation\n",
              "2      n_daily_data_points  number of daily data poinst that were availabl...\n",
              "3                dayOfWeek     identifier of weekday (0: Monday -> 6: Sunday)\n",
              "4                 day_type                                 weekday or weekend\n",
              "5       BlueCars_taken_sum    Number of bluecars taken that date in that area\n",
              "6    BlueCars_returned_sum  Number of bluecars returned that date in that ...\n",
              "7         Utilib_taken_sum      Number of Utilib taken that date in that area\n",
              "8      Utilib_returned_sum   Number of Utilib returned that date in that area\n",
              "9      Utilib_14_taken_sum  Number of Utilib 1.4 taken that date in that area\n",
              "10  Utilib_14_returned_sum  Number of Utilib 1.4 returned that date in tha...\n",
              "11         Slots_freed_sum  Number of recharging slots released that date ...\n",
              "12         Slots_taken_sum  Number of rechargign slots taken that date in ..."
            ]
          },
          "metadata": {
            "tags": []
          },
          "execution_count": 6
        }
      ]
    },
    {
      "cell_type": "code",
      "metadata": {
        "id": "DxD4jk_L2wAr",
        "outputId": "68b42c8f-2b1c-48b3-9124-87bc1095f243",
        "colab": {
          "base_uri": "https://localhost:8080/"
        }
      },
      "source": [
        "autolib.info()"
      ],
      "execution_count": 7,
      "outputs": [
        {
          "output_type": "stream",
          "text": [
            "<class 'pandas.core.frame.DataFrame'>\n",
            "RangeIndex: 16085 entries, 0 to 16084\n",
            "Data columns (total 13 columns):\n",
            " #   Column                  Non-Null Count  Dtype \n",
            "---  ------                  --------------  ----- \n",
            " 0   Postal code             16085 non-null  int64 \n",
            " 1   date                    16085 non-null  object\n",
            " 2   n_daily_data_points     16085 non-null  int64 \n",
            " 3   dayOfWeek               16085 non-null  int64 \n",
            " 4   day_type                16085 non-null  object\n",
            " 5   BlueCars_taken_sum      16085 non-null  int64 \n",
            " 6   BlueCars_returned_sum   16085 non-null  int64 \n",
            " 7   Utilib_taken_sum        16085 non-null  int64 \n",
            " 8   Utilib_returned_sum     16085 non-null  int64 \n",
            " 9   Utilib_14_taken_sum     16085 non-null  int64 \n",
            " 10  Utilib_14_returned_sum  16085 non-null  int64 \n",
            " 11  Slots_freed_sum         16085 non-null  int64 \n",
            " 12  Slots_taken_sum         16085 non-null  int64 \n",
            "dtypes: int64(11), object(2)\n",
            "memory usage: 1.6+ MB\n"
          ],
          "name": "stdout"
        }
      ]
    },
    {
      "cell_type": "markdown",
      "metadata": {
        "id": "ByJA1OMq2op_"
      },
      "source": [
        "###Cleaning the dataset"
      ]
    },
    {
      "cell_type": "markdown",
      "metadata": {
        "id": "CtG_IVWydNVD"
      },
      "source": [
        "####renaming columns"
      ]
    },
    {
      "cell_type": "code",
      "metadata": {
        "id": "QHZ13TiDdP46"
      },
      "source": [
        "autolib['date']=pd.to_datetime(autolib['date'])"
      ],
      "execution_count": 8,
      "outputs": []
    },
    {
      "cell_type": "code",
      "metadata": {
        "id": "YIvkaIcIic2r",
        "outputId": "0356f777-f6e3-46d5-cff4-9825cc2c3505",
        "colab": {
          "base_uri": "https://localhost:8080/"
        }
      },
      "source": [
        "autolib['date']"
      ],
      "execution_count": 9,
      "outputs": [
        {
          "output_type": "execute_result",
          "data": {
            "text/plain": [
              "0       2018-01-01\n",
              "1       2018-01-02\n",
              "2       2018-01-03\n",
              "3       2018-01-04\n",
              "4       2018-01-05\n",
              "           ...    \n",
              "16080   2018-06-15\n",
              "16081   2018-06-16\n",
              "16082   2018-06-17\n",
              "16083   2018-06-18\n",
              "16084   2018-06-19\n",
              "Name: date, Length: 16085, dtype: datetime64[ns]"
            ]
          },
          "metadata": {
            "tags": []
          },
          "execution_count": 9
        }
      ]
    },
    {
      "cell_type": "code",
      "metadata": {
        "id": "2Bpz_-cHis2W",
        "outputId": "85b8f6cb-96c4-4d95-9e38-07676676301a",
        "colab": {
          "base_uri": "https://localhost:8080/"
        }
      },
      "source": [
        "autolib.date.map(lambda x: x.year).unique()"
      ],
      "execution_count": 10,
      "outputs": [
        {
          "output_type": "execute_result",
          "data": {
            "text/plain": [
              "array([2018])"
            ]
          },
          "metadata": {
            "tags": []
          },
          "execution_count": 10
        }
      ]
    },
    {
      "cell_type": "code",
      "metadata": {
        "id": "n6Aor55RjPWj",
        "outputId": "5b837a61-48c9-4bef-e7e5-250d0bbf2bb4",
        "colab": {
          "base_uri": "https://localhost:8080/"
        }
      },
      "source": [
        "autolib.date.map(lambda x: x.month).unique()"
      ],
      "execution_count": 11,
      "outputs": [
        {
          "output_type": "execute_result",
          "data": {
            "text/plain": [
              "array([1, 2, 3, 4, 5, 6])"
            ]
          },
          "metadata": {
            "tags": []
          },
          "execution_count": 11
        }
      ]
    },
    {
      "cell_type": "markdown",
      "metadata": {
        "id": "nXZg_XssFDWo"
      },
      "source": [
        "months: 0 -->January,...,6 -->June"
      ]
    },
    {
      "cell_type": "markdown",
      "metadata": {
        "id": "Qb3Up5ASSZyg"
      },
      "source": [
        "#### validity"
      ]
    },
    {
      "cell_type": "code",
      "metadata": {
        "id": "_wLfSeXCiVOy"
      },
      "source": [
        "autolib['day']=autolib.date.map(lambda x: x.day)\n",
        "autolib['month']=autolib.date.map(lambda x: x.month)\n",
        "autolib.drop('date',axis=1,inplace=True)\n"
      ],
      "execution_count": 12,
      "outputs": []
    },
    {
      "cell_type": "code",
      "metadata": {
        "id": "kyJWNfpGMjEG",
        "outputId": "0d3ccdf7-f984-4475-9b16-6e507379405e",
        "colab": {
          "base_uri": "https://localhost:8080/"
        }
      },
      "source": [
        "autolib['Postal code'].unique()"
      ],
      "execution_count": 13,
      "outputs": [
        {
          "output_type": "execute_result",
          "data": {
            "text/plain": [
              "array([75001, 75002, 75003, 75004, 75005, 75006, 75007, 75008, 75009,\n",
              "       75010, 75011, 75012, 75013, 75014, 75015, 75016, 75017, 75018,\n",
              "       75019, 75020, 75112, 75116, 78000, 78140, 78150, 91330, 91370,\n",
              "       91400, 92000, 92100, 92110, 92120, 92130, 92140, 92150, 92160,\n",
              "       92170, 92190, 92200, 92210, 92220, 92230, 92240, 92250, 92260,\n",
              "       92270, 92290, 92300, 92310, 92320, 92330, 92340, 92350, 92360,\n",
              "       92370, 92380, 92390, 92400, 92410, 92420, 92500, 92600, 92700,\n",
              "       92800, 93100, 93110, 93130, 93150, 93170, 93200, 93230, 93260,\n",
              "       93300, 93310, 93350, 93360, 93370, 93390, 93400, 93440, 93500,\n",
              "       93600, 93700, 93800, 94000, 94100, 94110, 94120, 94130, 94140,\n",
              "       94150, 94160, 94220, 94230, 94300, 94340, 94410, 94450, 94500,\n",
              "       94700, 94800, 95100, 95870, 95880])"
            ]
          },
          "metadata": {
            "tags": []
          },
          "execution_count": 13
        }
      ]
    },
    {
      "cell_type": "code",
      "metadata": {
        "id": "g4i-pJfSMZ_-",
        "outputId": "34ea530c-3272-4b84-a542-958c201f5d52",
        "colab": {
          "base_uri": "https://localhost:8080/"
        }
      },
      "source": [
        "autolib['day_type'].unique()"
      ],
      "execution_count": 14,
      "outputs": [
        {
          "output_type": "execute_result",
          "data": {
            "text/plain": [
              "array(['weekday', 'weekend'], dtype=object)"
            ]
          },
          "metadata": {
            "tags": []
          },
          "execution_count": 14
        }
      ]
    },
    {
      "cell_type": "code",
      "metadata": {
        "id": "MvA-8FeyMuJ-",
        "outputId": "3dbd06cf-a539-4b27-9710-d91449984693",
        "colab": {
          "base_uri": "https://localhost:8080/"
        }
      },
      "source": [
        "autolib['n_daily_data_points'].unique()"
      ],
      "execution_count": 15,
      "outputs": [
        {
          "output_type": "execute_result",
          "data": {
            "text/plain": [
              "array([1440, 1438, 1439, 1320, 1437, 1434, 1398, 1420, 1425, 1396, 1429,\n",
              "       1389, 1380, 1364, 1318, 1377, 1203, 1417, 1435, 1174, 1436, 1411,\n",
              "       1370])"
            ]
          },
          "metadata": {
            "tags": []
          },
          "execution_count": 15
        }
      ]
    },
    {
      "cell_type": "code",
      "metadata": {
        "id": "lxrTCM78QzC_",
        "outputId": "b493e1d9-5856-4d63-c98b-8ed7fdccb566",
        "colab": {
          "base_uri": "https://localhost:8080/"
        }
      },
      "source": [
        "autolib['dayOfWeek'].unique()"
      ],
      "execution_count": 16,
      "outputs": [
        {
          "output_type": "execute_result",
          "data": {
            "text/plain": [
              "array([0, 1, 2, 3, 4, 5, 6])"
            ]
          },
          "metadata": {
            "tags": []
          },
          "execution_count": 16
        }
      ]
    },
    {
      "cell_type": "code",
      "metadata": {
        "id": "qPtM94ygMzZx",
        "outputId": "b151b0fd-1757-4e2f-8ab9-a23f83271025",
        "colab": {
          "base_uri": "https://localhost:8080/"
        }
      },
      "source": [
        "autolib['BlueCars_taken_sum'].unique()"
      ],
      "execution_count": 17,
      "outputs": [
        {
          "output_type": "execute_result",
          "data": {
            "text/plain": [
              "array([ 110,   98,  138,  104,  114,  187,  180,   84,   81,   88,  125,\n",
              "        126,  224,  193,  107,  116,  118,  122,  130,  217,  143,  123,\n",
              "        112,  108,  145,  216,  190,   83,  103,  146,  199,  186,  121,\n",
              "        113,  109,  207,  160,  115,   94,   99,  119,  176,  157,   85,\n",
              "        100,  135,    8,   92,  127,  136,  192,  168,  102,  134,  197,\n",
              "        173,  131,  196,  150,  156,  231,  105,  219,  179,  124,  188,\n",
              "        139,   97,  120,  159,  147,  151,  129,  152,  142,  141,  202,\n",
              "        175,   96,  133,  254,  137,  185,  203,    6,  166,  165,  243,\n",
              "        264,  213,  164,  163,  191,  276,  210,  183,  148,  270,  128,\n",
              "        280,  178,  153,  158,  259,  161,  240,   12,  181,  140,  263,\n",
              "        167,  177,  250,  208,  171,  266,  155,  247,  154,  184,  293,\n",
              "        228,  182,  144,  218,  162,  239,  200,  170,  174,  172,  245,\n",
              "          5,  195,  237,  331,  283,  212,  211,  380,  356,  233,  220,\n",
              "        238,  384,  313,  229,  221,  201,  350,  327,  223,  226,  234,\n",
              "        262,  361,  335,  205,  198,  346,  303,  236,  341,  277,  206,\n",
              "         25,  230,  330,  286,  265,  251,  412,  340,  227,  357,  319,\n",
              "        189,  375,  326,  311,  284,  255,  209,  215,  323,  256,  204,\n",
              "        214,  382,  315,  310,  333,  260,  297,  258,  241,  235,  349,\n",
              "        305,  290,  275,  194,  307,  328,  242,  308,  279,  288,  320,\n",
              "        273,  261,  169,  344,  334,  291,  294,  278,  287,  149,  370,\n",
              "         18,  257,  397,  365,  298,  299,  321,  490,  427,  269,  451,\n",
              "        363,  339,  317,  416,  449,  296,  306,  475,  348,  446,  343,\n",
              "        324,  304,  342,  355,  267,   37,  253,  401,  407,  396,  282,\n",
              "        281,  271,  395,  345,  325,  292,  369,  232,  318,  309,  300,\n",
              "        314,  373,  302,  377,  353,  312,  347,  268,  403,  364,  289,\n",
              "        252,  301,  376,   29,  405,  366,  225,   24,  421,  244,  391,\n",
              "        272,  246,  222,  248,  374,  387,  359,   13,  249,  336,  337,\n",
              "        274,  372,  394,  379,  411,  354,  295,   20,  368,  285,  322,\n",
              "        409,  358,  360,  400,  393,  332,  386,  422,  430,  426,  442,\n",
              "        398,  415,  525,  471,  455,  458,  462,  551,  520,  452,  453,\n",
              "        467,  487,  428,  482,  495,  435,  464,  480,  417,  577,  437,\n",
              "        418,  489,  431,  383,  414,  399,   26,  425,  419,  447,  459,\n",
              "        505,  463,  424,  468,  491,  492,  476,  473,  423,  433,  494,\n",
              "        516,  338,  478,  497,  469,  465,  537,  479,  474,  524,  413,\n",
              "        371,  466,  432,  434,  316,  450,  589,  501,  528,  533,  484,\n",
              "        460,  521,  518,  486,  488,  485,  500,   21,  378,  503,  367,\n",
              "         27,  329,  385,  457,  352,  351,  381,  420,  390,  477,  440,\n",
              "        461,  443,  388,   56,  438,  441,  402,  408,  406,   16,  499,\n",
              "        688,  557,  738,  599,  445,  714,  613,  404,  679,  529,  456,\n",
              "        702,  598,  654,  602,  534,  563,   69,  444,  483,  737,  655,\n",
              "        594,  697,  536,  612,  579,  507,  658,  593,  454,  584,  362,\n",
              "        436,  552,  472,  481,  470,  539,  648,  569,  581,  631,  561,\n",
              "        540,  576,  496,  696,  554,  389,   49,  502,  605,  634,  515,\n",
              "        764,  673,  535,  735,  666,  690,  642,  448,  549,  816,  609,\n",
              "        672,  617,  541,  724,   46,  439,  614,  519,  661,  645,  514,\n",
              "        637,  410,  710,  590,  506,  610,  623,  493,  703,  542,  657,\n",
              "        713,  504,  585,  580,  517,  727,  708,  680,  687,  550,  734,\n",
              "        636,  624,  722,  659,  616,  767,  647,  508,  575,  725,  684,\n",
              "        792,  646,  682,  523,  618,  660,  649,  543,   36,  513,  733,\n",
              "        695,  544,  681,  511,  643,  532,  700,  652,  498,  510,  603,\n",
              "        560,  664,  555,  568,  651,  526,  564,  538,  800,  709,  556,\n",
              "        826,  747,  567,  573,  662,   30,  429,  677,  640,  611,  712,\n",
              "        650,  559,  625,   39,  632,  620,  546,  586,  601,  592,  698,\n",
              "        678,  653,  691,  781,  739,  669,  852, 1061,  913,  694,  791,\n",
              "        810,  881, 1255, 1097,  753,  885,  831,  950, 1352, 1132,  751,\n",
              "        718,  784,  871,  963, 1248, 1014,  721,  732,  880,  942, 1327,\n",
              "       1043,  808,  794, 1118, 1036,  723,  874,  872,  943, 1144, 1037,\n",
              "        757,  765,  827,   58,  897, 1136,  999,  829,  805,  790,  907,\n",
              "       1127, 1038,  766,  811,  818,  898, 1209,  980,  746,  819,  813,\n",
              "        946, 1186,  981,  797,  884,  833,  867, 1024,  939,  839,  756,\n",
              "        926,  893,  875, 1277, 1082,  887,  962,  955, 1005, 1002,  774,\n",
              "        936, 1023,  925,  984,  899,  877,  857,  865,  773,  944, 1155,\n",
              "       1016,  840,  931,  856,  938, 1335, 1152,  861,  888,  985,  932,\n",
              "       1089, 1338, 1164,  864,  994, 1032,  968, 1087, 1330,  973,  920,\n",
              "       1093, 1001,  693,  638,  741,  847,  842,  668,  768,  715,  835,\n",
              "        918,  786,  728,  908, 1062,  989,  796, 1069,  795, 1065,  905,\n",
              "        760,  755,  630,  982,  665,  843,  824,  953,  583,  748,  719,\n",
              "        772,  770,  683,  814, 1003,  853,  793,  830,  804,  783, 1015,\n",
              "        854,  780,  987,  628,  825,  799,  787,  777,  817,  789, 1020,\n",
              "        894,  761,  850,  919,  686,  729,  606,  731,  742,  801, 1088,\n",
              "        758,  812,  745,  912,  978,  866,  862,  860,  917,  846, 1080,\n",
              "        802,  837,  832,  890, 1006,  901,  844,  909,  988,  845,  548,\n",
              "        553,  705,  928,  692,  776,  992,  701,  945,  635,  929,  716,\n",
              "        754,  706,  644,  873,  803,  604,   51,  629,  740,  782,  991,\n",
              "        785,  806,  763,  736,  977,  834,  762,  798,  720,  868,  752,\n",
              "        667,  809,  974,  707,  744,  749,  923,  859,   38,  392,  547,\n",
              "        587,  566,  530,   48,  596,  582,  562,  588,  591,  522,  730,\n",
              "        704,  670,  627,   55,  676,  531,  622,  639,  545,  527,   31,\n",
              "        619,  615,  633,  571,   47,  512,  600,  626,  558,    7,   11,\n",
              "          3,    4,   10,    9,   14,   17,   19,    0,    2,   15,    1,\n",
              "         23,   71,   43,   35,   68,   67,   28,   64,   70,   33,   80,\n",
              "         63,   40,   45,   62,   34,   32,   59,   41,   52,   74,   75,\n",
              "         66,   78,   44,   65,   93,   57,   50,   53,   72,   54,   82,\n",
              "         76,   22,   42,   60,  132,   79,   61,  106,   73,   89,   95,\n",
              "         91,   90,   87,  111,   77,   86,  101,  117])"
            ]
          },
          "metadata": {
            "tags": []
          },
          "execution_count": 17
        }
      ]
    },
    {
      "cell_type": "code",
      "metadata": {
        "id": "CJwbRNmgQ73V",
        "outputId": "cecf2a1f-ffae-4f03-a39f-3669845dae56",
        "colab": {
          "base_uri": "https://localhost:8080/"
        }
      },
      "source": [
        "autolib['BlueCars_returned_sum'].unique()"
      ],
      "execution_count": 18,
      "outputs": [
        {
          "output_type": "execute_result",
          "data": {
            "text/plain": [
              "array([ 103,   94,  139,  104,  117,  185,  180,   83,   84,   85,  125,\n",
              "        127,  223,  193,  107,  116,  118,  122,  130,  217,  150,  113,\n",
              "        146,  218,  189,   81,  110,  147,  204,  121,   99,  112,  109,\n",
              "        207,  165,  111,   93,  119,  176,  158,   86,   98,  135,    9,\n",
              "         91,  131,  137,  138,  208,  177,  124,  101,  145,  203,  169,\n",
              "         96,  136,  142,  196,  154,  100,   97,  144,  128,  179,  151,\n",
              "        115,  232,  105,  219,  143,  190,  102,  159,  155,  156,  120,\n",
              "        141,  201,  133,  253,  199,   95,  108,  188,  126,  206,  174,\n",
              "          7,  244,  197,  153,  264,  148,  164,  277,  213,  149,  175,\n",
              "        270,  198,  280,  161,  178,  152,  160,  257,  205,  240,  123,\n",
              "        157,   12,  265,  186,  173,  140,  171,  167,  255,  209,  170,\n",
              "        266,  248,  243,  183,  292,  222,  134,  236,  132,  181,  172,\n",
              "        184,  168,  162,  237,  163,  233,  202,  283,  192,  252,  211,\n",
              "          6,  250,  187,  229,  249,  338,  293,  214,  212,  228,  379,\n",
              "        359,  220,  225,  245,  400,  307,  221,  224,  367,  334,  274,\n",
              "        344,  340,  317,  235,  342,  290,  182,  241,  332,  297,  195,\n",
              "        231,  414,  329,  210,  366,  319,  247,  376,  331,  322,  271,\n",
              "        328,  267,  377,  311,  281,  339,  305,  216,  258,  284,  238,\n",
              "        326,  275,  330,  318,  304,   21,  166,  279,  310,  315,  300,\n",
              "        352,  269,  254,   19,  191,  333,  259,  295,  262,  256,  242,\n",
              "        341,  272,  285,  288,  230,  278,  303,   13,  407,  356,  476,\n",
              "        433,  302,  343,  456,  372,  291,  308,  301,  429,  467,  321,\n",
              "        466,  358,  306,  438,  313,  299,  355,  362,   16,  312,  287,\n",
              "        261,  401,  405,  260,  413,  337,  298,  309,  398,  375,  316,\n",
              "        286,  426,  363,  289,  320,  382,  314,  349,  294,  364,  346,\n",
              "        369,  411,  378,  371,   17,  399,  234,  383,  227,  194,  403,\n",
              "        325,  268,  200,  423,  350,  394,  365,  246,  327,  226,  370,\n",
              "        347,  273,  282,  296,  408,  389,  418,  324,  239,  251,  416,\n",
              "        360,  393,  396,    8,  276,  409,  424,  435,  442,  412,  532,\n",
              "        492,  430,  422,  460,  459,  552,  545,  448,  441,  465,  477,\n",
              "        428,  488,  519,  390,  406,  478,  594,  380,  420,  449,  368,\n",
              "        402,   22,  427,  446,  421,  457,  471,  528,  454,  388,  496,\n",
              "        523,  469,  445,  453,  447,  525,  417,  464,  506,  512,  425,\n",
              "        351,  432,  494,  484,  529,  483,  498,  535,  443,  458,  392,\n",
              "        395,  434,  462,  391,  348,  444,  568,  461,  463,  508,  482,\n",
              "        534,  481,  472,  518,  485,  480,  415,  419,   18,  336,  335,\n",
              "        455,  521,  517,  436,  263,  440,  499,  410,  345,  474,  381,\n",
              "        323,  361,  384,  354,  387,  439,  479,  468,  450,   35,  353,\n",
              "        397,  215,   23,  513,  674,  490,  716,  641,  713,  644,  386,\n",
              "        431,  690,  569,  507,  711,  602,  613,  570,   62,  595,  563,\n",
              "        437,  493,  630,  404,  658,  629,  682,  557,  625,  501,  567,\n",
              "        676,  622,  596,  526,  548,  579,  522,  516,  373,  510,  451,\n",
              "        659,  649,  605,  475,  667,  559,  561,  489,  547,  688,  584,\n",
              "         44,  611,  621,  770,  687,  509,  758,  655,  473,  717,  536,\n",
              "        798,  618,  669,  603,  541,  671,  735,  487,   61,  651,  593,\n",
              "        656,  642,  581,  686,  607,  608,  673,  684,  520,  666,  685,\n",
              "        564,  497,  571,  647,  725,  503,  694,  724,  696,  549,  707,\n",
              "        645,   41,  550,  617,  695,  670,  633,  745,  679,  514,  589,\n",
              "        712,  504,  538,  560,  783,  524,  592,  634,   56,  639,  572,\n",
              "        693,  546,  678,  606,  544,  627,  598,  530,  533,  648,  537,\n",
              "        600,  614,  551,  565,  704,  531,  554,  575,  785,  543,  573,\n",
              "        824,  742,  578,  698,  680,   39,  582,  654,  646,  672,  624,\n",
              "        385,  597,   42,  638,  631,  553,  615,  577,  566,  635,  374,\n",
              "        558,  495,  632,  650,   27,  843,  720,  752,  846, 1015,  971,\n",
              "        728,  801,  806,  815,  863, 1211, 1135,  778,  773,  894,  828,\n",
              "        952, 1300, 1149,  791,  721,  838, 1214, 1049,  746,  839,  837,\n",
              "        919, 1287, 1118,  807,  793, 1136, 1066,  726,  731,  874,  862,\n",
              "        928, 1117, 1072,  762,  756,  805,  860, 1057,  747,  830,  865,\n",
              "       1111, 1119,  734,  819, 1210, 1046,  780,  972, 1142, 1033,  706,\n",
              "        792,  869,  967,  979,  873,  767,  893,  891,  840, 1171, 1189,\n",
              "        875,  942,  995,  963, 1133, 1051,  775,  763,  736,  857, 1017,\n",
              "        708,  826,  853,  947,  910,  877,  854, 1146, 1045,  907,  867,\n",
              "        813,  911, 1032, 1276, 1271,  892,  982,  948, 1039, 1294, 1230,\n",
              "       1004, 1010, 1040, 1332, 1143,  880,  914,  970,  930, 1056, 1154,\n",
              "       1090,   52,  660,  868,  851,  662,  675,  741,  749,  973,  940,\n",
              "        755,  776,  901, 1077, 1003,  753,  702,  769, 1061,  890,  787,\n",
              "        808,  887, 1044,  733,  989,  705,  831,  871,  818,  954,  585,\n",
              "        681,  761,   60,  628,  715,  790,  759,  692,  739,  789,  990,\n",
              "        833,  784,  984,  847,  765,  821, 1020,  861,  616,  777,  729,\n",
              "        842,  832,  834,  797,  779,  915,  898,  623,  714,  710,  599,\n",
              "        816,  620,  664,  697,  802,  804, 1064,  881,  743,  760,  903,\n",
              "        966,  987,  878,  902,  889, 1076,  855,  885,  996,  879,  906,\n",
              "         40,  542,  703,  904,  677,  939,  981,  612,  938,  958,  771,\n",
              "        917,  852,  643,  709,  718,  845,  590,  663,   57,  864,  700,\n",
              "        969,  610,  738,  757,  730,  754,  983,  975,  949,  737,  823,\n",
              "        876,  665,  768,  786,  772,  965,  897,  883,  539,  357,  502,\n",
              "        586,   53,  604,  527,  583,  470,  580,  591,  576,  652,  744,\n",
              "        689,  683,  486,  699,  701,   79,  500,  722,  556,  811,  515,\n",
              "        661,  653,  587,   75,  588,  601,  555,  562,  637,  505,   55,\n",
              "          5,   10,   20,   11,    3,    4,   14,   15,    1,    0,   24,\n",
              "          2,   49,   31,   34,   65,   25,   30,   38,   54,   76,   32,\n",
              "         45,   50,   37,   36,   28,   74,   69,   33,   29,   58,   47,\n",
              "         48,   71,   43,   66,   26,   51,   59,   63,   46,   68,   67,\n",
              "         64,   90,  129,   77,   78,   80,   89,   88,   87,   72,  106,\n",
              "         92,   70,   73,  114,   82])"
            ]
          },
          "metadata": {
            "tags": []
          },
          "execution_count": 18
        }
      ]
    },
    {
      "cell_type": "code",
      "metadata": {
        "id": "bqrIWX8vR79d",
        "outputId": "3ea6a633-012f-4c3b-c58f-624f7cb39b8a",
        "colab": {
          "base_uri": "https://localhost:8080/"
        }
      },
      "source": [
        "autolib['Slots_freed_sum'].unique()"
      ],
      "execution_count": 19,
      "outputs": [
        {
          "output_type": "execute_result",
          "data": {
            "text/plain": [
              "array([ 22,  23,  27,  25,  18,  38,  34,  14,  15,  11,  19,  16,  21,\n",
              "        17,  41,  24,  20,  35,  36,  32,  13,  28,  12,  26,   0,  48,\n",
              "        30,  29,  31,  47,  33,  40,  37,   9,  10,  43,  44,  49,  39,\n",
              "        42,  45,  51,  46,  59,  64,  56,  52,   1,  50,  95,  84,  83,\n",
              "        81,  58,  61,  67, 101,  86,  63,  97,  60,  57,  65,  80,  79,\n",
              "        77,  54,  85,  75,  73,  55,   3,  62,  82,  71,  69,  74,  89,\n",
              "        91, 109,  70,  76,  72,  68,  78,  53,  66,  87,   2,   5, 120,\n",
              "       111,  92, 110,  88, 103, 142, 115, 105, 113, 121,  96,  90, 134,\n",
              "       140, 130,  94,  99, 128, 100, 129,  98, 118, 106, 119, 117, 102,\n",
              "       107,  93, 135, 104, 122, 133, 108, 112, 116, 123, 136, 126,   6,\n",
              "       114, 132, 177, 167, 125, 124, 131, 143, 139, 137, 153, 180, 157,\n",
              "       162, 152, 151, 149, 156, 145, 173, 147, 211, 127, 141, 161, 144,\n",
              "       163, 138, 171, 158, 148, 168, 154, 166, 150, 170, 146, 165, 178,\n",
              "       174, 175, 176, 181, 190, 160, 184, 205, 253, 252, 155, 193, 204,\n",
              "       221, 214, 169, 197, 196, 200, 199, 191, 185, 183, 208, 159, 218,\n",
              "       215, 179, 216, 203, 186, 206,   7, 192, 172, 202, 236, 274, 195,\n",
              "       222, 239, 213, 229, 188, 201, 240, 164, 226, 220, 182,   8, 194,\n",
              "       248, 289, 286, 234, 302, 254, 189, 235, 319, 277, 284, 360, 249,\n",
              "       237, 305, 263, 271, 272, 209, 301, 278, 251, 322, 232, 207, 228,\n",
              "       283, 344, 282, 212, 330, 309, 225, 217, 357, 280, 257, 300, 273,\n",
              "       250, 288, 339, 292, 242, 262, 308, 285, 198, 241, 264, 267, 335,\n",
              "       293, 310, 219, 224, 187, 230, 223, 269, 258, 210, 233, 246, 255,\n",
              "       259, 227, 244, 245, 231, 270, 275, 243, 296, 334,   4])"
            ]
          },
          "metadata": {
            "tags": []
          },
          "execution_count": 19
        }
      ]
    },
    {
      "cell_type": "code",
      "metadata": {
        "id": "5PDEXDK0SNe1",
        "outputId": "71833f69-edfa-4b84-f435-465d9918fb6f",
        "colab": {
          "base_uri": "https://localhost:8080/"
        }
      },
      "source": [
        "autolib['Slots_taken_sum'].unique()"
      ],
      "execution_count": 20,
      "outputs": [
        {
          "output_type": "execute_result",
          "data": {
            "text/plain": [
              "array([ 20,  22,  27,  21,  35,  34,  15,  13,  38,  19,  39,  25,  14,\n",
              "         9,  37,  36,  30,  16,  11,  28,  33,  18,  12,   0,  31,  23,\n",
              "        26,  50,  17,  40,  24,  48,  32,   8,  29,  42,  43,  49,  45,\n",
              "        41,  44,  52,  59,  46,  65,  47,  57,  51,   1,  97,  87,  54,\n",
              "        84,  83,  60,  69, 103,  58,  62,  92,  67,  78,  82,  77,  53,\n",
              "        88,  72,  66,  99,  64,  55,  75, 113,  63,  74,  71,  89,  68,\n",
              "        81,  73,  70,  61,  79,  56,  76,  86,   2, 118, 108, 107, 144,\n",
              "       114,  93, 105, 106, 115, 122,  90,  80,  98,  85, 139, 136, 128,\n",
              "        94, 126,  95,   4, 130, 102,  96, 129, 138, 111, 124, 101, 109,\n",
              "       116, 110, 134,  91, 119, 137, 100,   3, 104, 112,   6, 177, 125,\n",
              "       120, 123, 131, 135, 140, 132, 155, 182, 154, 164, 121, 151, 157,\n",
              "       147, 117, 153, 160, 141, 172, 161,   5, 213, 145, 143, 162, 127,\n",
              "       148, 169, 149, 171, 167, 163, 166, 133, 158, 159, 150, 174, 173,\n",
              "       178, 152,   7, 176, 179, 165, 180, 142, 188, 185, 183,  10, 210,\n",
              "       252, 249, 199, 196, 228, 205, 201, 181, 193, 184, 207, 168, 225,\n",
              "       187, 212, 186, 146, 170, 203, 223, 197, 194, 230, 280, 202, 191,\n",
              "       200, 221, 218, 192, 156, 208, 175, 198, 233, 204, 222, 220, 189,\n",
              "       215, 245, 214, 209, 248, 287, 286, 229, 240, 295, 211, 321, 272,\n",
              "       195, 226, 235, 216, 278, 359, 328, 247, 239, 330, 298, 260, 271,\n",
              "       273, 263, 255, 227, 315, 284, 231, 349, 236, 253, 322, 285, 251,\n",
              "       246, 238, 261, 301, 219, 346, 289, 217, 254, 283, 275, 299, 232,\n",
              "       224, 243, 242, 303, 268, 244, 336, 305, 297, 241, 262, 258, 338,\n",
              "       270, 292, 264, 294, 290, 206, 190, 234, 267, 269, 250, 276, 279,\n",
              "       304, 326])"
            ]
          },
          "metadata": {
            "tags": []
          },
          "execution_count": 20
        }
      ]
    },
    {
      "cell_type": "code",
      "metadata": {
        "id": "XftbYt9_jbIq",
        "outputId": "38bf5023-de86-4cf2-d5cf-6613240b7245",
        "colab": {
          "base_uri": "https://localhost:8080/"
        }
      },
      "source": [
        "autolib['day'].unique()"
      ],
      "execution_count": 21,
      "outputs": [
        {
          "output_type": "execute_result",
          "data": {
            "text/plain": [
              "array([ 1,  2,  3,  4,  5,  6,  7,  8,  9, 10, 11, 12, 13, 14, 15, 16, 17,\n",
              "       18, 19, 20, 21, 22, 23, 24, 25, 26, 27, 28, 29, 30, 31])"
            ]
          },
          "metadata": {
            "tags": []
          },
          "execution_count": 21
        }
      ]
    },
    {
      "cell_type": "code",
      "metadata": {
        "id": "y6JpAAWVIzuI",
        "outputId": "1b53674d-c240-4471-e0f4-8133ecaa01a5",
        "colab": {
          "base_uri": "https://localhost:8080/"
        }
      },
      "source": [
        "autolib['month'].unique()"
      ],
      "execution_count": 22,
      "outputs": [
        {
          "output_type": "execute_result",
          "data": {
            "text/plain": [
              "array([1, 2, 3, 4, 5, 6])"
            ]
          },
          "metadata": {
            "tags": []
          },
          "execution_count": 22
        }
      ]
    },
    {
      "cell_type": "markdown",
      "metadata": {
        "id": "TBmH5SbktIK9"
      },
      "source": [
        "#### completemess"
      ]
    },
    {
      "cell_type": "code",
      "metadata": {
        "id": "a7nRlPQ4cgM-",
        "outputId": "b823931f-c20f-413b-f957-7900f8a402e1",
        "colab": {
          "base_uri": "https://localhost:8080/"
        }
      },
      "source": [
        "autolib.shape"
      ],
      "execution_count": 23,
      "outputs": [
        {
          "output_type": "execute_result",
          "data": {
            "text/plain": [
              "(16085, 14)"
            ]
          },
          "metadata": {
            "tags": []
          },
          "execution_count": 23
        }
      ]
    },
    {
      "cell_type": "code",
      "metadata": {
        "id": "Lfho3E4LcBxa",
        "outputId": "0aece921-f024-479d-e7fe-d464879a0d27",
        "colab": {
          "base_uri": "https://localhost:8080/"
        }
      },
      "source": [
        "autolib.isna().sum()"
      ],
      "execution_count": 24,
      "outputs": [
        {
          "output_type": "execute_result",
          "data": {
            "text/plain": [
              "Postal code               0\n",
              "n_daily_data_points       0\n",
              "dayOfWeek                 0\n",
              "day_type                  0\n",
              "BlueCars_taken_sum        0\n",
              "BlueCars_returned_sum     0\n",
              "Utilib_taken_sum          0\n",
              "Utilib_returned_sum       0\n",
              "Utilib_14_taken_sum       0\n",
              "Utilib_14_returned_sum    0\n",
              "Slots_freed_sum           0\n",
              "Slots_taken_sum           0\n",
              "day                       0\n",
              "month                     0\n",
              "dtype: int64"
            ]
          },
          "metadata": {
            "tags": []
          },
          "execution_count": 24
        }
      ]
    },
    {
      "cell_type": "markdown",
      "metadata": {
        "id": "4Stgs0sNthue"
      },
      "source": [
        "There were no null values in the datadset"
      ]
    },
    {
      "cell_type": "markdown",
      "metadata": {
        "id": "CjMb6G1BtZBf"
      },
      "source": [
        "####consistency"
      ]
    },
    {
      "cell_type": "code",
      "metadata": {
        "id": "kgdXRUfXclhq",
        "outputId": "786b5f05-ea5f-4624-958a-0830f26d662a",
        "colab": {
          "base_uri": "https://localhost:8080/"
        }
      },
      "source": [
        "autolib.duplicated().sum()"
      ],
      "execution_count": 25,
      "outputs": [
        {
          "output_type": "execute_result",
          "data": {
            "text/plain": [
              "0"
            ]
          },
          "metadata": {
            "tags": []
          },
          "execution_count": 25
        }
      ]
    },
    {
      "cell_type": "markdown",
      "metadata": {
        "id": "cImujexHtbPH"
      },
      "source": [
        "There were no duplicated items"
      ]
    },
    {
      "cell_type": "markdown",
      "metadata": {
        "id": "MP0VrxhgdK3B"
      },
      "source": [
        "#### removing outliers"
      ]
    },
    {
      "cell_type": "code",
      "metadata": {
        "id": "iH1fazoX2u3t",
        "outputId": "c4668c9c-f83e-4d40-ef04-6511546de300",
        "colab": {
          "base_uri": "https://localhost:8080/",
          "height": 1000
        }
      },
      "source": [
        "fig, (a1,a2,a3,a4,a5,a6,a7,a8,a9) = plt.subplots(9,1, figsize=(10,50),)\n",
        "fig.suptitle('Boxplots')\n",
        "sns.boxplot(autolib['dayOfWeek'], ax=a1,orient='v')\n",
        "sns.boxplot(autolib['BlueCars_taken_sum'], ax=a2,orient='v')\n",
        "sns.boxplot(autolib['BlueCars_returned_sum'], ax=a3,orient='v')\n",
        "sns.boxplot(autolib['Utilib_taken_sum'], ax=a4,orient='v')\n",
        "sns.boxplot(autolib['Utilib_returned_sum'], ax=a5,orient='v')\n",
        "sns.boxplot(autolib['Utilib_14_taken_sum'], ax=a6,orient='v')\n",
        "sns.boxplot(autolib['Utilib_14_returned_sum'], ax=a7,orient='v')\n",
        "sns.boxplot(autolib['Slots_freed_sum'], ax=a8,orient='v')\n",
        "sns.boxplot(autolib['Slots_taken_sum'], ax=a9,orient='v')\n",
        "plt.show()"
      ],
      "execution_count": 26,
      "outputs": [
        {
          "output_type": "stream",
          "text": [
            "/usr/local/lib/python3.6/dist-packages/seaborn/_decorators.py:43: FutureWarning: Pass the following variable as a keyword arg: x. From version 0.12, the only valid positional argument will be `data`, and passing other arguments without an explicit keyword will result in an error or misinterpretation.\n",
            "  FutureWarning\n",
            "/usr/local/lib/python3.6/dist-packages/seaborn/_core.py:1303: UserWarning: Vertical orientation ignored with only `x` specified.\n",
            "  warnings.warn(single_var_warning.format(\"Vertical\", \"x\"))\n",
            "/usr/local/lib/python3.6/dist-packages/seaborn/_decorators.py:43: FutureWarning: Pass the following variable as a keyword arg: x. From version 0.12, the only valid positional argument will be `data`, and passing other arguments without an explicit keyword will result in an error or misinterpretation.\n",
            "  FutureWarning\n",
            "/usr/local/lib/python3.6/dist-packages/seaborn/_core.py:1303: UserWarning: Vertical orientation ignored with only `x` specified.\n",
            "  warnings.warn(single_var_warning.format(\"Vertical\", \"x\"))\n",
            "/usr/local/lib/python3.6/dist-packages/seaborn/_decorators.py:43: FutureWarning: Pass the following variable as a keyword arg: x. From version 0.12, the only valid positional argument will be `data`, and passing other arguments without an explicit keyword will result in an error or misinterpretation.\n",
            "  FutureWarning\n",
            "/usr/local/lib/python3.6/dist-packages/seaborn/_core.py:1303: UserWarning: Vertical orientation ignored with only `x` specified.\n",
            "  warnings.warn(single_var_warning.format(\"Vertical\", \"x\"))\n",
            "/usr/local/lib/python3.6/dist-packages/seaborn/_decorators.py:43: FutureWarning: Pass the following variable as a keyword arg: x. From version 0.12, the only valid positional argument will be `data`, and passing other arguments without an explicit keyword will result in an error or misinterpretation.\n",
            "  FutureWarning\n",
            "/usr/local/lib/python3.6/dist-packages/seaborn/_core.py:1303: UserWarning: Vertical orientation ignored with only `x` specified.\n",
            "  warnings.warn(single_var_warning.format(\"Vertical\", \"x\"))\n",
            "/usr/local/lib/python3.6/dist-packages/seaborn/_decorators.py:43: FutureWarning: Pass the following variable as a keyword arg: x. From version 0.12, the only valid positional argument will be `data`, and passing other arguments without an explicit keyword will result in an error or misinterpretation.\n",
            "  FutureWarning\n",
            "/usr/local/lib/python3.6/dist-packages/seaborn/_core.py:1303: UserWarning: Vertical orientation ignored with only `x` specified.\n",
            "  warnings.warn(single_var_warning.format(\"Vertical\", \"x\"))\n",
            "/usr/local/lib/python3.6/dist-packages/seaborn/_decorators.py:43: FutureWarning: Pass the following variable as a keyword arg: x. From version 0.12, the only valid positional argument will be `data`, and passing other arguments without an explicit keyword will result in an error or misinterpretation.\n",
            "  FutureWarning\n",
            "/usr/local/lib/python3.6/dist-packages/seaborn/_core.py:1303: UserWarning: Vertical orientation ignored with only `x` specified.\n",
            "  warnings.warn(single_var_warning.format(\"Vertical\", \"x\"))\n",
            "/usr/local/lib/python3.6/dist-packages/seaborn/_decorators.py:43: FutureWarning: Pass the following variable as a keyword arg: x. From version 0.12, the only valid positional argument will be `data`, and passing other arguments without an explicit keyword will result in an error or misinterpretation.\n",
            "  FutureWarning\n",
            "/usr/local/lib/python3.6/dist-packages/seaborn/_core.py:1303: UserWarning: Vertical orientation ignored with only `x` specified.\n",
            "  warnings.warn(single_var_warning.format(\"Vertical\", \"x\"))\n",
            "/usr/local/lib/python3.6/dist-packages/seaborn/_decorators.py:43: FutureWarning: Pass the following variable as a keyword arg: x. From version 0.12, the only valid positional argument will be `data`, and passing other arguments without an explicit keyword will result in an error or misinterpretation.\n",
            "  FutureWarning\n",
            "/usr/local/lib/python3.6/dist-packages/seaborn/_core.py:1303: UserWarning: Vertical orientation ignored with only `x` specified.\n",
            "  warnings.warn(single_var_warning.format(\"Vertical\", \"x\"))\n",
            "/usr/local/lib/python3.6/dist-packages/seaborn/_decorators.py:43: FutureWarning: Pass the following variable as a keyword arg: x. From version 0.12, the only valid positional argument will be `data`, and passing other arguments without an explicit keyword will result in an error or misinterpretation.\n",
            "  FutureWarning\n",
            "/usr/local/lib/python3.6/dist-packages/seaborn/_core.py:1303: UserWarning: Vertical orientation ignored with only `x` specified.\n",
            "  warnings.warn(single_var_warning.format(\"Vertical\", \"x\"))\n"
          ],
          "name": "stderr"
        },
        {
          "output_type": "display_data",
          "data": {
            "image/png": "[encoded data removed]",
            "text/plain": [
              "<Figure size 720x3600 with 9 Axes>"
            ]
          },
          "metadata": {
            "tags": [],
            "needs_background": "light"
          }
        }
      ]
    },
    {
      "cell_type": "code",
      "metadata": {
        "id": "q5a_pWe0Wcbw"
      },
      "source": [
        "def outs(x):\n",
        "  global autolib,a\n",
        "  \n",
        "  p1,p3=np.percentile(a[x],[25,75])\n",
        "  iqr=p3-p1\n",
        "  l_bound=p1-(1.5*iqr)\n",
        "  u_bound=p3+(1.5*iqr)\n",
        "  a=a[~((a[x]<l_bound)|(a[x]>u_bound))]"
      ],
      "execution_count": 27,
      "outputs": []
    },
    {
      "cell_type": "code",
      "metadata": {
        "id": "do2yWPuMXf7j",
        "outputId": "aea280a4-685a-42a4-acf3-4b042ad58750",
        "colab": {
          "base_uri": "https://localhost:8080/"
        }
      },
      "source": [
        "autolib.shape"
      ],
      "execution_count": 28,
      "outputs": [
        {
          "output_type": "execute_result",
          "data": {
            "text/plain": [
              "(16085, 14)"
            ]
          },
          "metadata": {
            "tags": []
          },
          "execution_count": 28
        }
      ]
    },
    {
      "cell_type": "code",
      "metadata": {
        "id": "VC_eDIuVZmvq",
        "outputId": "d15030c5-8be3-41d7-ca95-2517f83623c3",
        "colab": {
          "base_uri": "https://localhost:8080/"
        }
      },
      "source": [
        "a=autolib.copy()\n",
        "outs('BlueCars_taken_sum')\n",
        "outs('BlueCars_returned_sum')\n",
        "outs('Utilib_taken_sum')\n",
        "outs('Utilib_returned_sum')\n",
        "outs('Utilib_14_taken_sum')\n",
        "outs('Utilib_14_returned_sum')\n",
        "outs('Slots_freed_sum')\n",
        "outs('Slots_taken_sum')\n",
        "a.shape"
      ],
      "execution_count": 29,
      "outputs": [
        {
          "output_type": "execute_result",
          "data": {
            "text/plain": [
              "(8816, 14)"
            ]
          },
          "metadata": {
            "tags": []
          },
          "execution_count": 29
        }
      ]
    },
    {
      "cell_type": "markdown",
      "metadata": {
        "id": "aiOwBfQFIWpy"
      },
      "source": [
        "> the outliers are too many to remove (close to half the dataset)since the analysis would end up being incorrect"
      ]
    },
    {
      "cell_type": "markdown",
      "metadata": {
        "id": "lDZbhg5BKtVA"
      },
      "source": [
        "####External validation"
      ]
    },
    {
      "cell_type": "markdown",
      "metadata": {
        "id": "t_nv2N39JYZn"
      },
      "source": [
        "Paris postal codes run from 75000 to 75991 obtained from https://worldpostalcode.com/france/ile-de-france/paris\n",
        "\n",
        "California postal codes run from 90001 to 96162 obtained from https://www.zip-codes.com/state/ca.asp\n",
        "\n",
        "This data was collected from two different regions"
      ]
    },
    {
      "cell_type": "code",
      "metadata": {
        "id": "dNlqpXvyBzj3"
      },
      "source": [
        "autolib['city']=0"
      ],
      "execution_count": 30,
      "outputs": []
    },
    {
      "cell_type": "code",
      "metadata": {
        "id": "TodBRvFziGUW",
        "outputId": "fce741b5-2ff8-4694-aca7-9d5a0341ee9a",
        "colab": {
          "base_uri": "https://localhost:8080/"
        }
      },
      "source": [
        "autolib['city'][autolib['Postal code']<80000]='paris'\n",
        "autolib['city'][autolib['Postal code']>80000]='california'"
      ],
      "execution_count": 31,
      "outputs": [
        {
          "output_type": "stream",
          "text": [
            "/usr/local/lib/python3.6/dist-packages/ipykernel_launcher.py:1: SettingWithCopyWarning: \n",
            "A value is trying to be set on a copy of a slice from a DataFrame\n",
            "\n",
            "See the caveats in the documentation: https://pandas.pydata.org/pandas-docs/stable/user_guide/indexing.html#returning-a-view-versus-a-copy\n",
            "  \"\"\"Entry point for launching an IPython kernel.\n",
            "/usr/local/lib/python3.6/dist-packages/ipykernel_launcher.py:2: SettingWithCopyWarning: \n",
            "A value is trying to be set on a copy of a slice from a DataFrame\n",
            "\n",
            "See the caveats in the documentation: https://pandas.pydata.org/pandas-docs/stable/user_guide/indexing.html#returning-a-view-versus-a-copy\n",
            "  \n"
          ],
          "name": "stderr"
        }
      ]
    },
    {
      "cell_type": "markdown",
      "metadata": {
        "id": "2TRJcHi3dMIc"
      },
      "source": [
        "### Analysis"
      ]
    },
    {
      "cell_type": "markdown",
      "metadata": {
        "id": "8pgFdTjKdPTd"
      },
      "source": [
        "####Univariate analysis"
      ]
    },
    {
      "cell_type": "code",
      "metadata": {
        "id": "ncqRSzBBbZQ_",
        "outputId": "7b8ddd01-80bf-426b-cf90-1f62d1483725",
        "colab": {
          "base_uri": "https://localhost:8080/",
          "height": 297
        }
      },
      "source": [
        "autolib['day'].value_counts().head(16).plot(kind='bar',rot=0,title='frequencies of different days of the month_part 1')\n"
      ],
      "execution_count": 247,
      "outputs": [
        {
          "output_type": "execute_result",
          "data": {
            "text/plain": [
              "<matplotlib.axes._subplots.AxesSubplot at 0x7f14a25aaf98>"
            ]
          },
          "metadata": {
            "tags": []
          },
          "execution_count": 247
        },
        {
          "output_type": "display_data",
          "data": {
            "image/png": "[encoded data removed]",
            "text/plain": [
              "<Figure size 432x288 with 1 Axes>"
            ]
          },
          "metadata": {
            "tags": [],
            "needs_background": "light"
          }
        }
      ]
    },
    {
      "cell_type": "code",
      "metadata": {
        "id": "bnUDfjGanHty",
        "outputId": "b00b58ba-4a59-4911-d3f8-3fd3cd0056df",
        "colab": {
          "base_uri": "https://localhost:8080/",
          "height": 297
        }
      },
      "source": [
        "autolib['day'].value_counts().tail(16).plot(kind='bar',rot=0,title='frequencies of different days of the month_part2')"
      ],
      "execution_count": 248,
      "outputs": [
        {
          "output_type": "execute_result",
          "data": {
            "text/plain": [
              "<matplotlib.axes._subplots.AxesSubplot at 0x7f14a2573be0>"
            ]
          },
          "metadata": {
            "tags": []
          },
          "execution_count": 248
        },
        {
          "output_type": "display_data",
          "data": {
            "image/png": "[encoded data removed]",
            "text/plain": [
              "<Figure size 432x288 with 1 Axes>"
            ]
          },
          "metadata": {
            "tags": [],
            "needs_background": "light"
          }
        }
      ]
    },
    {
      "cell_type": "code",
      "metadata": {
        "id": "ovSHZBf5cM9Y",
        "outputId": "ce107a81-7e7c-4958-92dd-a512aaa4f468",
        "colab": {
          "base_uri": "https://localhost:8080/",
          "height": 297
        }
      },
      "source": [
        "autolib['month'].value_counts().plot(kind='bar',rot=0,title='frequency of different months')"
      ],
      "execution_count": 244,
      "outputs": [
        {
          "output_type": "execute_result",
          "data": {
            "text/plain": [
              "<matplotlib.axes._subplots.AxesSubplot at 0x7f14a2775198>"
            ]
          },
          "metadata": {
            "tags": []
          },
          "execution_count": 244
        },
        {
          "output_type": "display_data",
          "data": {
            "image/png": "[encoded data removed]",
            "text/plain": [
              "<Figure size 432x288 with 1 Axes>"
            ]
          },
          "metadata": {
            "tags": [],
            "needs_background": "light"
          }
        }
      ]
    },
    {
      "cell_type": "code",
      "metadata": {
        "id": "l4mc3B73aPY7",
        "outputId": "45d48645-10ff-46fb-8f07-0143ba89f3d2",
        "colab": {
          "base_uri": "https://localhost:8080/",
          "height": 297
        }
      },
      "source": [
        "autolib['dayOfWeek'].value_counts().plot(kind='barh',rot=0,title='frequency of different days of the week')"
      ],
      "execution_count": 251,
      "outputs": [
        {
          "output_type": "execute_result",
          "data": {
            "text/plain": [
              "<matplotlib.axes._subplots.AxesSubplot at 0x7f14a234de48>"
            ]
          },
          "metadata": {
            "tags": []
          },
          "execution_count": 251
        },
        {
          "output_type": "display_data",
          "data": {
            "image/png": "[encoded data removed]",
            "text/plain": [
              "<Figure size 432x288 with 1 Axes>"
            ]
          },
          "metadata": {
            "tags": [],
            "needs_background": "light"
          }
        }
      ]
    },
    {
      "cell_type": "code",
      "metadata": {
        "id": "U2LOe87kn9iL",
        "outputId": "c676af07-402b-4582-c2f2-393da19ff5c9",
        "colab": {
          "base_uri": "https://localhost:8080/",
          "height": 297
        }
      },
      "source": [
        "autolib['day_type'].value_counts().plot(kind='bar',rot=0,title='weekends vs weekdays')"
      ],
      "execution_count": 245,
      "outputs": [
        {
          "output_type": "execute_result",
          "data": {
            "text/plain": [
              "<matplotlib.axes._subplots.AxesSubplot at 0x7f14a26925c0>"
            ]
          },
          "metadata": {
            "tags": []
          },
          "execution_count": 245
        },
        {
          "output_type": "display_data",
          "data": {
            "image/png": "[encoded data removed]",
            "text/plain": [
              "<Figure size 432x288 with 1 Axes>"
            ]
          },
          "metadata": {
            "tags": [],
            "needs_background": "light"
          }
        }
      ]
    },
    {
      "cell_type": "code",
      "metadata": {
        "id": "hemgkFHmoFio",
        "outputId": "2cef8358-1379-4946-9ec9-6b55ca7f3b38",
        "colab": {
          "base_uri": "https://localhost:8080/",
          "height": 280
        }
      },
      "source": [
        "autolib['dayOfWeek'].value_counts().plot(kind='pie',rot=0,autopct='%0.2f%%',title='frequencies of different days of the week')"
      ],
      "execution_count": 249,
      "outputs": [
        {
          "output_type": "execute_result",
          "data": {
            "text/plain": [
              "<matplotlib.axes._subplots.AxesSubplot at 0x7f14a2b765c0>"
            ]
          },
          "metadata": {
            "tags": []
          },
          "execution_count": 249
        },
        {
          "output_type": "display_data",
          "data": {
            "image/png": "[encoded data removed]",
            "text/plain": [
              "<Figure size 432x288 with 1 Axes>"
            ]
          },
          "metadata": {
            "tags": []
          }
        }
      ]
    },
    {
      "cell_type": "markdown",
      "metadata": {
        "id": "rCrP85jDpsCf"
      },
      "source": [
        "####bivariate analysis"
      ]
    },
    {
      "cell_type": "code",
      "metadata": {
        "id": "bDq9tdNblm4-"
      },
      "source": [
        "from sklearn.preprocessing import LabelEncoder\n",
        "le=LabelEncoder()\n",
        "heatmp=autolib.copy()\n",
        "heatmp['day_type']=le.fit_transform(autolib['day_type'])"
      ],
      "execution_count": 37,
      "outputs": []
    },
    {
      "cell_type": "code",
      "metadata": {
        "id": "X0uxm6QvALgH",
        "outputId": "9a224ed5-b770-4004-9e9d-b890ec98a8cc",
        "colab": {
          "base_uri": "https://localhost:8080/",
          "height": 992
        }
      },
      "source": [
        "plt.subplots(figsize=(15,15))\n",
        "sns.heatmap(heatmp.corr(),annot=True)"
      ],
      "execution_count": 38,
      "outputs": [
        {
          "output_type": "execute_result",
          "data": {
            "text/plain": [
              "<matplotlib.axes._subplots.AxesSubplot at 0x7f14addd2f98>"
            ]
          },
          "metadata": {
            "tags": []
          },
          "execution_count": 38
        },
        {
          "output_type": "display_data",
          "data": {
            "image/png": "[encoded data removed]",
            "text/plain": [
              "<Figure size 1080x1080 with 2 Axes>"
            ]
          },
          "metadata": {
            "tags": [],
            "needs_background": "light"
          }
        }
      ]
    },
    {
      "cell_type": "markdown",
      "metadata": {
        "id": "1d0kRRISS8TO"
      },
      "source": [
        "Cars being taken and returned, and slots freed and taken have a high positive correlation"
      ]
    },
    {
      "cell_type": "code",
      "metadata": {
        "id": "xAd7_Ksi8oe4",
        "outputId": "dce2457c-b568-484d-b024-1ccfc2c3e5ed",
        "colab": {
          "base_uri": "https://localhost:8080/"
        }
      },
      "source": [
        "autolib.info()"
      ],
      "execution_count": 39,
      "outputs": [
        {
          "output_type": "stream",
          "text": [
            "<class 'pandas.core.frame.DataFrame'>\n",
            "RangeIndex: 16085 entries, 0 to 16084\n",
            "Data columns (total 15 columns):\n",
            " #   Column                  Non-Null Count  Dtype \n",
            "---  ------                  --------------  ----- \n",
            " 0   Postal code             16085 non-null  int64 \n",
            " 1   n_daily_data_points     16085 non-null  int64 \n",
            " 2   dayOfWeek               16085 non-null  int64 \n",
            " 3   day_type                16085 non-null  object\n",
            " 4   BlueCars_taken_sum      16085 non-null  int64 \n",
            " 5   BlueCars_returned_sum   16085 non-null  int64 \n",
            " 6   Utilib_taken_sum        16085 non-null  int64 \n",
            " 7   Utilib_returned_sum     16085 non-null  int64 \n",
            " 8   Utilib_14_taken_sum     16085 non-null  int64 \n",
            " 9   Utilib_14_returned_sum  16085 non-null  int64 \n",
            " 10  Slots_freed_sum         16085 non-null  int64 \n",
            " 11  Slots_taken_sum         16085 non-null  int64 \n",
            " 12  day                     16085 non-null  int64 \n",
            " 13  month                   16085 non-null  int64 \n",
            " 14  city                    16085 non-null  object\n",
            "dtypes: int64(13), object(2)\n",
            "memory usage: 1.8+ MB\n"
          ],
          "name": "stdout"
        }
      ]
    },
    {
      "cell_type": "code",
      "metadata": {
        "id": "xHfr8ackCb-Y"
      },
      "source": [
        "def cars(grouper,others,t):\n",
        "  cars=autolib[grouper+others]\n",
        "  car_pivot=pd.pivot_table(cars,index=grouper,values=others,aggfunc='sum')\n",
        "  #title=f'distribution of {others[0]} and {others[1]} and {others[2]} against {grouper[0]}'\n",
        "  car_pivot.plot(kind='bar',title=t,rot=0)\n"
      ],
      "execution_count": 40,
      "outputs": []
    },
    {
      "cell_type": "code",
      "metadata": {
        "id": "VTHhJUEuJgjP",
        "outputId": "b1e58bbd-cd73-4010-a7fc-0d63e69cb10e",
        "colab": {
          "base_uri": "https://localhost:8080/",
          "height": 851
        }
      },
      "source": [
        "title='relationship between blue cars taken and returned per month'\n",
        "cars(['month'],['BlueCars_returned_sum','BlueCars_returned_sum'],title)\n",
        "title='relationship between Utilib taken and returned per month'\n",
        "cars(['month'],['Utilib_taken_sum','Utilib_returned_sum'],title)\n",
        "title='relationship between Utilib_14 taken and returned per month'\n",
        "cars(['month'],['Utilib_14_taken_sum','Utilib_14_returned_sum'],title)"
      ],
      "execution_count": 41,
      "outputs": [
        {
          "output_type": "display_data",
          "data": {
            "image/png": "[encoded data removed]",
            "text/plain": [
              "<Figure size 432x288 with 1 Axes>"
            ]
          },
          "metadata": {
            "tags": [],
            "needs_background": "light"
          }
        },
        {
          "output_type": "display_data",
          "data": {
            "image/png": "[encoded data removed]",
            "text/plain": [
              "<Figure size 432x288 with 1 Axes>"
            ]
          },
          "metadata": {
            "tags": [],
            "needs_background": "light"
          }
        },
        {
          "output_type": "display_data",
          "data": {
            "image/png": "[encoded data removed]",
            "text/plain": [
              "<Figure size 432x288 with 1 Axes>"
            ]
          },
          "metadata": {
            "tags": [],
            "needs_background": "light"
          }
        }
      ]
    },
    {
      "cell_type": "code",
      "metadata": {
        "id": "_CO7tJ2FJ1dP",
        "outputId": "27e78e11-4df5-4ed1-b8d6-663d69fca098",
        "colab": {
          "base_uri": "https://localhost:8080/",
          "height": 851
        }
      },
      "source": [
        "title='relationship between blue cars taken and returned per day of the week'\n",
        "cars(['dayOfWeek'],['BlueCars_returned_sum','BlueCars_returned_sum'],title)\n",
        "title='relationship between Utilib taken and returned per day of the week'\n",
        "cars(['dayOfWeek'],['Utilib_taken_sum','Utilib_returned_sum'],title)\n",
        "title='relationship between Utilib_14 taken and returned per day of the week'\n",
        "cars(['dayOfWeek'],['Utilib_14_taken_sum','Utilib_14_returned_sum'],title)"
      ],
      "execution_count": 42,
      "outputs": [
        {
          "output_type": "display_data",
          "data": {
            "image/png": "[encoded data removed]",
            "text/plain": [
              "<Figure size 432x288 with 1 Axes>"
            ]
          },
          "metadata": {
            "tags": [],
            "needs_background": "light"
          }
        },
        {
          "output_type": "display_data",
          "data": {
            "image/png": "[encoded data removed]",
            "text/plain": [
              "<Figure size 432x288 with 1 Axes>"
            ]
          },
          "metadata": {
            "tags": [],
            "needs_background": "light"
          }
        },
        {
          "output_type": "display_data",
          "data": {
            "image/png": "[encoded data removed]",
            "text/plain": [
              "<Figure size 432x288 with 1 Axes>"
            ]
          },
          "metadata": {
            "tags": [],
            "needs_background": "light"
          }
        }
      ]
    },
    {
      "cell_type": "code",
      "metadata": {
        "id": "NI6rBl5QKFIG",
        "outputId": "69be1038-052d-4240-b012-1404190edef8",
        "colab": {
          "base_uri": "https://localhost:8080/",
          "height": 853
        }
      },
      "source": [
        "title='relationship between blue cars taken and returned per day type'\n",
        "cars(['day_type'],['BlueCars_returned_sum','BlueCars_returned_sum'],title)\n",
        "title='relationship between Utilib taken and returned per day type'\n",
        "cars(['day_type'],['Utilib_taken_sum','Utilib_returned_sum'],title)\n",
        "title='relationship between Utilib_14 taken and returned per day type'\n",
        "cars(['day_type'],['Utilib_14_taken_sum','Utilib_14_returned_sum'],title)"
      ],
      "execution_count": 43,
      "outputs": [
        {
          "output_type": "display_data",
          "data": {
            "image/png": "[encoded data removed]",
            "text/plain": [
              "<Figure size 432x288 with 1 Axes>"
            ]
          },
          "metadata": {
            "tags": [],
            "needs_background": "light"
          }
        },
        {
          "output_type": "display_data",
          "data": {
            "image/png": "[encoded data removed]",
            "text/plain": [
              "<Figure size 432x288 with 1 Axes>"
            ]
          },
          "metadata": {
            "tags": [],
            "needs_background": "light"
          }
        },
        {
          "output_type": "display_data",
          "data": {
            "image/png": "[encoded data removed]",
            "text/plain": [
              "<Figure size 432x288 with 1 Axes>"
            ]
          },
          "metadata": {
            "tags": [],
            "needs_background": "light"
          }
        }
      ]
    },
    {
      "cell_type": "code",
      "metadata": {
        "id": "1tXmYbVAKQG5",
        "outputId": "89ac668a-51c9-4292-833a-05755db57dd6",
        "colab": {
          "base_uri": "https://localhost:8080/",
          "height": 572
        }
      },
      "source": [
        "title='relationship of cars taken per day of the week'\n",
        "cars(['dayOfWeek'],['BlueCars_returned_sum','Utilib_taken_sum','Utilib_14_taken_sum'],title)\n",
        "title='relationship of cars returned per day of the week'\n",
        "cars(['dayOfWeek'],['BlueCars_returned_sum','Utilib_returned_sum','Utilib_14_returned_sum'],title)"
      ],
      "execution_count": 44,
      "outputs": [
        {
          "output_type": "display_data",
          "data": {
            "image/png": "[encoded data removed]",
            "text/plain": [
              "<Figure size 432x288 with 1 Axes>"
            ]
          },
          "metadata": {
            "tags": [],
            "needs_background": "light"
          }
        },
        {
          "output_type": "display_data",
          "data": {
            "image/png": "[encoded data removed]",
            "text/plain": [
              "<Figure size 432x288 with 1 Axes>"
            ]
          },
          "metadata": {
            "tags": [],
            "needs_background": "light"
          }
        }
      ]
    },
    {
      "cell_type": "code",
      "metadata": {
        "id": "_WlF2sP4OFUF",
        "outputId": "6d5cdf19-d8ad-42d6-b15e-b33faa083c71",
        "colab": {
          "base_uri": "https://localhost:8080/",
          "height": 575
        }
      },
      "source": [
        "title='relationship of cars taken per day type'\n",
        "cars(['day_type'],['BlueCars_returned_sum','Utilib_taken_sum','Utilib_14_taken_sum'],title)\n",
        "title='relationship of cars returned per day type'\n",
        "cars(['day_type'],['BlueCars_returned_sum','Utilib_returned_sum','Utilib_14_returned_sum'],title)"
      ],
      "execution_count": 45,
      "outputs": [
        {
          "output_type": "display_data",
          "data": {
            "image/png": "[encoded data removed]",
            "text/plain": [
              "<Figure size 432x288 with 1 Axes>"
            ]
          },
          "metadata": {
            "tags": [],
            "needs_background": "light"
          }
        },
        {
          "output_type": "display_data",
          "data": {
            "image/png": "[encoded data removed]",
            "text/plain": [
              "<Figure size 432x288 with 1 Axes>"
            ]
          },
          "metadata": {
            "tags": [],
            "needs_background": "light"
          }
        }
      ]
    },
    {
      "cell_type": "code",
      "metadata": {
        "id": "ejjCiutCL9U1",
        "outputId": "a98d6ffe-4e90-4ab7-ded2-2fdeae280781",
        "colab": {
          "base_uri": "https://localhost:8080/",
          "height": 572
        }
      },
      "source": [
        "title='relationship of cars taken per month'\n",
        "cars(['month'],['BlueCars_returned_sum','Utilib_taken_sum','Utilib_14_taken_sum'],title)\n",
        "title='relationship of cars returned per month'\n",
        "cars(['month'],['BlueCars_returned_sum','Utilib_returned_sum','Utilib_14_returned_sum'],title)"
      ],
      "execution_count": 46,
      "outputs": [
        {
          "output_type": "display_data",
          "data": {
            "image/png": "[encoded data removed]",
            "text/plain": [
              "<Figure size 432x288 with 1 Axes>"
            ]
          },
          "metadata": {
            "tags": [],
            "needs_background": "light"
          }
        },
        {
          "output_type": "display_data",
          "data": {
            "image/png": "[encoded data removed]",
            "text/plain": [
              "<Figure size 432x288 with 1 Axes>"
            ]
          },
          "metadata": {
            "tags": [],
            "needs_background": "light"
          }
        }
      ]
    },
    {
      "cell_type": "markdown",
      "metadata": {
        "id": "fCKJw-WveWrg"
      },
      "source": [
        "### Implementing the solution"
      ]
    },
    {
      "cell_type": "markdown",
      "metadata": {
        "id": "-l7cMuq4Lf7S"
      },
      "source": [
        "> Ho: There is no difference in the number of blue cars takenfrom Paris and California.\n",
        "\n",
        "> Hi: There is a difference in the number of blue cars taken from Paris and California.\n",
        "\n",
        "significance level =0.05"
      ]
    },
    {
      "cell_type": "markdown",
      "metadata": {
        "id": "kGg8zAVHML-g"
      },
      "source": [
        "Simple random sampling to get the month for the test"
      ]
    },
    {
      "cell_type": "code",
      "metadata": {
        "id": "FzvjqCSAMLTZ"
      },
      "source": [
        "import random"
      ],
      "execution_count": 123,
      "outputs": []
    },
    {
      "cell_type": "code",
      "metadata": {
        "id": "alcMci57MsYU",
        "outputId": "ebc5afc5-69b9-454a-ed58-4a6be96a64d7",
        "colab": {
          "base_uri": "https://localhost:8080/"
        }
      },
      "source": [
        "lst=autolib['month'].unique()\n",
        "lst=lst.tolist()\n",
        "mnth=random.sample(lst, k=1)\n",
        "mnth"
      ],
      "execution_count": 168,
      "outputs": [
        {
          "output_type": "execute_result",
          "data": {
            "text/plain": [
              "[1]"
            ]
          },
          "metadata": {
            "tags": []
          },
          "execution_count": 168
        }
      ]
    },
    {
      "cell_type": "code",
      "metadata": {
        "id": "nyRzES-9H7Im"
      },
      "source": [
        "paris=autolib[['city','BlueCars_taken_sum']][(autolib['city']=='paris')&(autolib['month']==mnth[0])]\n",
        "calif=autolib[['city','BlueCars_taken_sum']][(autolib['city']=='california')&(autolib['month']==mnth[0])]"
      ],
      "execution_count": 169,
      "outputs": []
    },
    {
      "cell_type": "markdown",
      "metadata": {
        "id": "WSjO9O94HZGX"
      },
      "source": [
        "####Checking if the data is normally distributed"
      ]
    },
    {
      "cell_type": "code",
      "metadata": {
        "id": "WugSyIZ81YWU"
      },
      "source": [
        "from scipy.stats import shapiro \n",
        "\n",
        "def chk(df):\n",
        "  stat, p = shapiro(df)\n",
        "  alpha = 0.05\n",
        "  if p > alpha:\n",
        "    print('Sample looks Gaussian')\n",
        "  else:\n",
        "    print('Sample does not look Gaussian')"
      ],
      "execution_count": 170,
      "outputs": []
    },
    {
      "cell_type": "code",
      "metadata": {
        "id": "sH5IpDROHDR0",
        "outputId": "911651f0-f355-4cc5-dfda-28c61643eb57",
        "colab": {
          "base_uri": "https://localhost:8080/"
        }
      },
      "source": [
        "chk(paris['BlueCars_taken_sum'])"
      ],
      "execution_count": 171,
      "outputs": [
        {
          "output_type": "stream",
          "text": [
            "Sample does not look Gaussian\n"
          ],
          "name": "stdout"
        }
      ]
    },
    {
      "cell_type": "code",
      "metadata": {
        "id": "yZXWuUNxHEvZ",
        "outputId": "5e7e4c78-9339-464c-c599-3f8bf58fab66",
        "colab": {
          "base_uri": "https://localhost:8080/"
        }
      },
      "source": [
        "chk(calif['BlueCars_taken_sum'])"
      ],
      "execution_count": 172,
      "outputs": [
        {
          "output_type": "stream",
          "text": [
            "Sample does not look Gaussian\n"
          ],
          "name": "stdout"
        }
      ]
    },
    {
      "cell_type": "markdown",
      "metadata": {
        "id": "WiKH5O373tKg"
      },
      "source": [
        "Our test is dependent on a normal distribution hence need for a box-cox transformation to transform the data into normaly distributed data"
      ]
    },
    {
      "cell_type": "code",
      "metadata": {
        "id": "gaD8WE5LKJuF",
        "outputId": "4bf5960b-5f70-4cca-9e76-ab52d2c5a0bc",
        "colab": {
          "base_uri": "https://localhost:8080/"
        }
      },
      "source": [
        "from scipy.special import boxcox1p\n",
        "for i in range(-20,20):\n",
        "  stat, p = shapiro(boxcox1p(paris['BlueCars_taken_sum'],i))\n",
        "  alpha = 0.05\n",
        "  if p > alpha:\n",
        "    print(i,'Sample looks Gaussian')"
      ],
      "execution_count": 173,
      "outputs": [
        {
          "output_type": "stream",
          "text": [
            "-20 Sample looks Gaussian\n",
            "-19 Sample looks Gaussian\n",
            "-18 Sample looks Gaussian\n",
            "-17 Sample looks Gaussian\n",
            "-16 Sample looks Gaussian\n",
            "-15 Sample looks Gaussian\n",
            "-14 Sample looks Gaussian\n",
            "13 Sample looks Gaussian\n",
            "14 Sample looks Gaussian\n",
            "15 Sample looks Gaussian\n",
            "16 Sample looks Gaussian\n",
            "17 Sample looks Gaussian\n",
            "18 Sample looks Gaussian\n",
            "19 Sample looks Gaussian\n"
          ],
          "name": "stdout"
        },
        {
          "output_type": "stream",
          "text": [
            "/usr/local/lib/python3.6/dist-packages/scipy/stats/morestats.py:1673: UserWarning: Input data for shapiro has range zero. The results may not be accurate.\n",
            "  warnings.warn(\"Input data for shapiro has range zero. The results \"\n"
          ],
          "name": "stderr"
        }
      ]
    },
    {
      "cell_type": "code",
      "metadata": {
        "id": "y3d3W5fIKggK",
        "outputId": "cde0ce14-7bd7-4a8c-c274-a5727283db46",
        "colab": {
          "base_uri": "https://localhost:8080/"
        }
      },
      "source": [
        "for i in range(-20,20):\n",
        "  stat, p = shapiro(boxcox1p(calif['BlueCars_taken_sum'],i))\n",
        "  alpha = 0.05\n",
        "  if p > alpha:\n",
        "    print(i,'Sample looks Gaussian')"
      ],
      "execution_count": 174,
      "outputs": [
        {
          "output_type": "stream",
          "text": [
            "15 Sample looks Gaussian\n",
            "16 Sample looks Gaussian\n",
            "17 Sample looks Gaussian\n",
            "18 Sample looks Gaussian\n",
            "19 Sample looks Gaussian\n"
          ],
          "name": "stdout"
        }
      ]
    },
    {
      "cell_type": "markdown",
      "metadata": {
        "id": "3WrhIklzDn20"
      },
      "source": [
        "I chose to transform them by the same factor where they wer both normally distributed"
      ]
    },
    {
      "cell_type": "code",
      "metadata": {
        "id": "4B62yM5WHNN2",
        "outputId": "d04c9e4f-433a-4e13-8685-e5b121b336db",
        "colab": {
          "base_uri": "https://localhost:8080/"
        }
      },
      "source": [
        "paris['BlueCars_taken_sum']=boxcox1p(paris['BlueCars_taken_sum'],15)\n",
        "chk(paris['BlueCars_taken_sum'])"
      ],
      "execution_count": 175,
      "outputs": [
        {
          "output_type": "stream",
          "text": [
            "Sample looks Gaussian\n"
          ],
          "name": "stdout"
        }
      ]
    },
    {
      "cell_type": "code",
      "metadata": {
        "id": "rikQOgaHHOz0",
        "outputId": "fdf4dd65-6434-4c18-bda4-8121d748f6f9",
        "colab": {
          "base_uri": "https://localhost:8080/"
        }
      },
      "source": [
        "calif['BlueCars_taken_sum']=boxcox1p(calif['BlueCars_taken_sum'],15)\n",
        "chk(calif['BlueCars_taken_sum'])"
      ],
      "execution_count": 176,
      "outputs": [
        {
          "output_type": "stream",
          "text": [
            "Sample looks Gaussian\n"
          ],
          "name": "stdout"
        }
      ]
    },
    {
      "cell_type": "markdown",
      "metadata": {
        "id": "rc1bcyhKCnPR"
      },
      "source": [
        "####Calculating the mean,standard deviation and kurtosis"
      ]
    },
    {
      "cell_type": "code",
      "metadata": {
        "id": "tc4MK7PFRtA0",
        "outputId": "10d710a5-9b99-41bc-d0d9-7d50ec12c18c",
        "colab": {
          "base_uri": "https://localhost:8080/",
          "height": 305
        }
      },
      "source": [
        "paris['BlueCars_taken_sum'].plot(kind='density')"
      ],
      "execution_count": 177,
      "outputs": [
        {
          "output_type": "execute_result",
          "data": {
            "text/plain": [
              "<matplotlib.axes._subplots.AxesSubplot at 0x7f14a27d5b00>"
            ]
          },
          "metadata": {
            "tags": []
          },
          "execution_count": 177
        },
        {
          "output_type": "display_data",
          "data": {
            "image/png": "[encoded data removed]",
            "text/plain": [
              "<Figure size 432x288 with 1 Axes>"
            ]
          },
          "metadata": {
            "tags": [],
            "needs_background": "light"
          }
        }
      ]
    },
    {
      "cell_type": "code",
      "metadata": {
        "id": "EJ2JNJaXRsjg",
        "outputId": "4d72ffbb-1576-4ffa-8f05-8eeb12ee6402",
        "colab": {
          "base_uri": "https://localhost:8080/"
        }
      },
      "source": [
        "paris['BlueCars_taken_sum'].kurt()"
      ],
      "execution_count": 178,
      "outputs": [
        {
          "output_type": "execute_result",
          "data": {
            "text/plain": [
              "540.9726629666744"
            ]
          },
          "metadata": {
            "tags": []
          },
          "execution_count": 178
        }
      ]
    },
    {
      "cell_type": "code",
      "metadata": {
        "id": "H7YRN6KqOODH",
        "outputId": "095bcbb6-e19a-4212-d77e-edccb5b455f8",
        "colab": {
          "base_uri": "https://localhost:8080/",
          "height": 305
        }
      },
      "source": [
        "calif['BlueCars_taken_sum'].plot(kind='density')"
      ],
      "execution_count": 179,
      "outputs": [
        {
          "output_type": "execute_result",
          "data": {
            "text/plain": [
              "<matplotlib.axes._subplots.AxesSubplot at 0x7f14a28302b0>"
            ]
          },
          "metadata": {
            "tags": []
          },
          "execution_count": 179
        },
        {
          "output_type": "display_data",
          "data": {
            "image/png": "[encoded data removed]",
            "text/plain": [
              "<Figure size 432x288 with 1 Axes>"
            ]
          },
          "metadata": {
            "tags": [],
            "needs_background": "light"
          }
        }
      ]
    },
    {
      "cell_type": "code",
      "metadata": {
        "id": "Ff_sEQ5UWWjI",
        "outputId": "149e8bdd-9dd3-483c-e6ff-6446c290b533",
        "colab": {
          "base_uri": "https://localhost:8080/"
        }
      },
      "source": [
        "calif['BlueCars_taken_sum'].kurt()"
      ],
      "execution_count": 180,
      "outputs": [
        {
          "output_type": "execute_result",
          "data": {
            "text/plain": [
              "1078.8693479893184"
            ]
          },
          "metadata": {
            "tags": []
          },
          "execution_count": 180
        }
      ]
    },
    {
      "cell_type": "markdown",
      "metadata": {
        "id": "EHQMfsPYX96J"
      },
      "source": [
        "####clustering"
      ]
    },
    {
      "cell_type": "markdown",
      "metadata": {
        "id": "rie6kCs4fhhv"
      },
      "source": [
        "In order to reflect the ration between the blue cars taken in paris and california stratified sampling is the best option"
      ]
    },
    {
      "cell_type": "code",
      "metadata": {
        "id": "tDCVSYHVjyjB",
        "outputId": "7f4455cc-ebb5-4e05-dc7c-77b24202492e",
        "colab": {
          "base_uri": "https://localhost:8080/",
          "height": 391
        }
      },
      "source": [
        "cities=pd.concat([paris,calif])\n",
        "cities"
      ],
      "execution_count": 181,
      "outputs": [
        {
          "output_type": "execute_result",
          "data": {
            "text/html": [
              "<div>\n",
              "<style scoped>\n",
              "    .dataframe tbody tr th:only-of-type {\n",
              "        vertical-align: middle;\n",
              "    }\n",
              "\n",
              "    .dataframe tbody tr th {\n",
              "        vertical-align: top;\n",
              "    }\n",
              "\n",
              "    .dataframe thead th {\n",
              "        text-align: right;\n",
              "    }\n",
              "</style>\n",
              "<table border=\"1\" class=\"dataframe\">\n",
              "  <thead>\n",
              "    <tr style=\"text-align: right;\">\n",
              "      <th></th>\n",
              "      <th>city</th>\n",
              "      <th>BlueCars_taken_sum</th>\n",
              "    </tr>\n",
              "  </thead>\n",
              "  <tbody>\n",
              "    <tr>\n",
              "      <th>0</th>\n",
              "      <td>paris</td>\n",
              "      <td>3.189726e+29</td>\n",
              "    </tr>\n",
              "    <tr>\n",
              "      <th>1</th>\n",
              "      <td>paris</td>\n",
              "      <td>5.733722e+28</td>\n",
              "    </tr>\n",
              "    <tr>\n",
              "      <th>2</th>\n",
              "      <td>paris</td>\n",
              "      <td>9.313882e+30</td>\n",
              "    </tr>\n",
              "    <tr>\n",
              "      <th>3</th>\n",
              "      <td>paris</td>\n",
              "      <td>1.385952e+29</td>\n",
              "    </tr>\n",
              "    <tr>\n",
              "      <th>4</th>\n",
              "      <td>paris</td>\n",
              "      <td>5.424708e+29</td>\n",
              "    </tr>\n",
              "    <tr>\n",
              "      <th>...</th>\n",
              "      <td>...</td>\n",
              "      <td>...</td>\n",
              "    </tr>\n",
              "    <tr>\n",
              "      <th>15955</th>\n",
              "      <td>california</td>\n",
              "      <td>1.118173e+20</td>\n",
              "    </tr>\n",
              "    <tr>\n",
              "      <th>15956</th>\n",
              "      <td>california</td>\n",
              "      <td>1.969542e+20</td>\n",
              "    </tr>\n",
              "    <tr>\n",
              "      <th>15957</th>\n",
              "      <td>california</td>\n",
              "      <td>3.134567e+10</td>\n",
              "    </tr>\n",
              "    <tr>\n",
              "      <th>15958</th>\n",
              "      <td>california</td>\n",
              "      <td>7.158279e+07</td>\n",
              "    </tr>\n",
              "    <tr>\n",
              "      <th>15959</th>\n",
              "      <td>california</td>\n",
              "      <td>1.372608e+13</td>\n",
              "    </tr>\n",
              "  </tbody>\n",
              "</table>\n",
              "<p>3195 rows × 2 columns</p>\n",
              "</div>"
            ],
            "text/plain": [
              "             city  BlueCars_taken_sum\n",
              "0           paris        3.189726e+29\n",
              "1           paris        5.733722e+28\n",
              "2           paris        9.313882e+30\n",
              "3           paris        1.385952e+29\n",
              "4           paris        5.424708e+29\n",
              "...           ...                 ...\n",
              "15955  california        1.118173e+20\n",
              "15956  california        1.969542e+20\n",
              "15957  california        3.134567e+10\n",
              "15958  california        7.158279e+07\n",
              "15959  california        1.372608e+13\n",
              "\n",
              "[3195 rows x 2 columns]"
            ]
          },
          "metadata": {
            "tags": []
          },
          "execution_count": 181
        }
      ]
    },
    {
      "cell_type": "code",
      "metadata": {
        "id": "x-u_iCLfqhEC"
      },
      "source": [
        "total=cities['city'].count()"
      ],
      "execution_count": 182,
      "outputs": []
    },
    {
      "cell_type": "code",
      "metadata": {
        "id": "Kn4RWCIhacCj",
        "outputId": "ce22f6e1-293b-498d-dd01-1755830f4e6c",
        "colab": {
          "base_uri": "https://localhost:8080/"
        }
      },
      "source": [
        "par=round((paris['city'].count())/(total/100),2)\n",
        "cal=round((calif['city'].count())/(total/100),2)\n",
        "print('paris percentage:\\t',par,'\\nCalifornia percentage: ',cal)"
      ],
      "execution_count": 183,
      "outputs": [
        {
          "output_type": "stream",
          "text": [
            "paris percentage:\t 24.26 \n",
            "California percentage:  75.74\n"
          ],
          "name": "stdout"
        }
      ]
    },
    {
      "cell_type": "code",
      "metadata": {
        "id": "KKIj-q-ga-bK",
        "outputId": "c7a4fb16-be63-4c21-b1c3-00200407ab9c",
        "colab": {
          "base_uri": "https://localhost:8080/"
        }
      },
      "source": [
        "stratified = cities.groupby('city', group_keys=False).apply(lambda grouped_subset : grouped_subset.sample(frac=0.1))\n",
        "print(stratified['city'].value_counts())"
      ],
      "execution_count": 239,
      "outputs": [
        {
          "output_type": "stream",
          "text": [
            "california    242\n",
            "paris          78\n",
            "Name: city, dtype: int64\n"
          ],
          "name": "stdout"
        }
      ]
    },
    {
      "cell_type": "code",
      "metadata": {
        "id": "NUkYXHJLs1dC"
      },
      "source": [
        "s_par=stratified[stratified['city']=='paris']\n",
        "s_cal=stratified[stratified['city']=='california']"
      ],
      "execution_count": 240,
      "outputs": []
    },
    {
      "cell_type": "code",
      "metadata": {
        "id": "A_dVR12qJuK-",
        "outputId": "455ce91b-7303-40c2-eb8e-4c7f1ee79d87",
        "colab": {
          "base_uri": "https://localhost:8080/"
        }
      },
      "source": [
        "chk(s_cal['BlueCars_taken_sum'])"
      ],
      "execution_count": 241,
      "outputs": [
        {
          "output_type": "stream",
          "text": [
            "Sample looks Gaussian\n"
          ],
          "name": "stdout"
        }
      ]
    },
    {
      "cell_type": "code",
      "metadata": {
        "id": "y-CCGzldJqpK",
        "outputId": "0cc5aa4b-25fa-40ff-e0e3-11b0ebccdc8e",
        "colab": {
          "base_uri": "https://localhost:8080/"
        }
      },
      "source": [
        "chk(s_cal['BlueCars_taken_sum'])"
      ],
      "execution_count": 242,
      "outputs": [
        {
          "output_type": "stream",
          "text": [
            "Sample looks Gaussian\n"
          ],
          "name": "stdout"
        }
      ]
    },
    {
      "cell_type": "markdown",
      "metadata": {
        "id": "y-9oa4jyPPer"
      },
      "source": [
        "#### Two-sample t-test"
      ]
    },
    {
      "cell_type": "code",
      "metadata": {
        "id": "HjZn14VECCGE",
        "outputId": "4220c7ba-a3ae-4499-d321-b37d459129ad",
        "colab": {
          "base_uri": "https://localhost:8080/"
        }
      },
      "source": [
        "import scipy.stats as stats\n",
        "\n",
        "#perform two sample t-test with equal variances\n",
        "stats.ttest_ind(a=s_par['BlueCars_taken_sum'], b=s_cal['BlueCars_taken_sum'])\n"
      ],
      "execution_count": 283,
      "outputs": [
        {
          "output_type": "execute_result",
          "data": {
            "text/plain": [
              "Ttest_indResult(statistic=2.1520392763081206, pvalue=0.032146677638394676)"
            ]
          },
          "metadata": {
            "tags": []
          },
          "execution_count": 283
        }
      ]
    },
    {
      "cell_type": "code",
      "metadata": {
        "id": "InJSiHiR5PCZ",
        "outputId": "b7aff235-f40d-4deb-9b0a-9de59380765c",
        "colab": {
          "base_uri": "https://localhost:8080/"
        }
      },
      "source": [
        "crit=stats.norm.ppf(0.95)\n",
        "crit"
      ],
      "execution_count": 312,
      "outputs": [
        {
          "output_type": "execute_result",
          "data": {
            "text/plain": [
              "1.6448536269514722"
            ]
          },
          "metadata": {
            "tags": []
          },
          "execution_count": 312
        }
      ]
    },
    {
      "cell_type": "markdown",
      "metadata": {
        "id": "wawjermyvz1g"
      },
      "source": [
        "T statistic =2.15\n",
        "\n",
        "p-value=0.0321"
      ]
    },
    {
      "cell_type": "markdown",
      "metadata": {
        "id": "aL86mRHuH57k"
      },
      "source": [
        "Since the t statistic=2.15 is higher than the critical value 1.64 at 95% confidence level for this test we reject Ho  and accept Hi.\n",
        "> Hence conclude that there is a difference in the number of blue cars picked up in callifornia and Paris."
      ]
    },
    {
      "cell_type": "markdown",
      "metadata": {
        "id": "yK3YIRX_jaTk"
      },
      "source": [
        "#### Confidence interval"
      ]
    },
    {
      "cell_type": "code",
      "metadata": {
        "id": "B-VutmXG0kKY",
        "outputId": "52086efc-a0a2-4c6c-a56a-d2f79a60d2f3",
        "colab": {
          "base_uri": "https://localhost:8080/"
        }
      },
      "source": [
        "n1=len(s_par['BlueCars_taken_sum'])\n",
        "n2=len(s_cal['BlueCars_taken_sum'])\n",
        "n=n1-n2\n",
        "print('the point estimate of n1-n2 is',n)"
      ],
      "execution_count": 302,
      "outputs": [
        {
          "output_type": "stream",
          "text": [
            "the point estimate of n1-n2 is -164\n"
          ],
          "name": "stdout"
        }
      ]
    },
    {
      "cell_type": "markdown",
      "metadata": {
        "id": "vVj5Hc9t9ruo"
      },
      "source": [
        "Calculating combined mean and standard deviation"
      ]
    },
    {
      "cell_type": "code",
      "metadata": {
        "id": "0uGeQ79m3-cb"
      },
      "source": [
        "u1=s_par['BlueCars_taken_sum'].mean()\n",
        "u2=s_cal['BlueCars_taken_sum'].mean()\n",
        "\n",
        "u=(n1*u1+n2*u2)/(n1+n2)\n",
        "\n",
        "v1=s_par['BlueCars_taken_sum'].var()\n",
        "v2=s_cal['BlueCars_taken_sum'].var()\n",
        "s1= v1+((u1-u)**2)\n",
        "s2= v2+((u2-u)**2)\n",
        "v=(s1*n1+n2*s2)/(n1+n2)\n",
        "S=math.sqrt(v)"
      ],
      "execution_count": 307,
      "outputs": []
    },
    {
      "cell_type": "code",
      "metadata": {
        "id": "ddPsxXbv_ff1"
      },
      "source": [
        "calculating confidence level"
      ],
      "execution_count": null,
      "outputs": []
    },
    {
      "cell_type": "code",
      "metadata": {
        "id": "Q2lKezYN9wUK",
        "outputId": "ed4329d0-4d34-4e46-95b5-a02a3e56f7ec",
        "colab": {
          "base_uri": "https://localhost:8080/"
        }
      },
      "source": [
        "m_of_error =crit * (S / math.sqrt(n1+n2))\n",
        "confidence_interval = (u - m_of_error, u + m_of_error)\n",
        "print('confidence level range is',confidence_interval)"
      ],
      "execution_count": 313,
      "outputs": [
        {
          "output_type": "stream",
          "text": [
            "confidence level range is (-3.778671665752602e+41, 2.4746163135172328e+42)\n"
          ],
          "name": "stdout"
        }
      ]
    },
    {
      "cell_type": "markdown",
      "metadata": {
        "id": "QPT5v_MbmGMh"
      },
      "source": [
        "###Power of the test"
      ]
    },
    {
      "cell_type": "code",
      "metadata": {
        "id": "Lo2GFDYYmKRa",
        "outputId": "9dd6c462-258f-4180-8765-9b40e1d83f0b",
        "colab": {
          "base_uri": "https://localhost:8080/"
        }
      },
      "source": [
        "pip install statsmodels"
      ],
      "execution_count": 254,
      "outputs": [
        {
          "output_type": "stream",
          "text": [
            "Requirement already satisfied: statsmodels in /usr/local/lib/python3.6/dist-packages (0.10.2)\n",
            "Requirement already satisfied: scipy>=0.18 in /usr/local/lib/python3.6/dist-packages (from statsmodels) (1.4.1)\n",
            "Requirement already satisfied: pandas>=0.19 in /usr/local/lib/python3.6/dist-packages (from statsmodels) (1.1.3)\n",
            "Requirement already satisfied: numpy>=1.11 in /usr/local/lib/python3.6/dist-packages (from statsmodels) (1.18.5)\n",
            "Requirement already satisfied: patsy>=0.4.0 in /usr/local/lib/python3.6/dist-packages (from statsmodels) (0.5.1)\n",
            "Requirement already satisfied: pytz>=2017.2 in /usr/local/lib/python3.6/dist-packages (from pandas>=0.19->statsmodels) (2018.9)\n",
            "Requirement already satisfied: python-dateutil>=2.7.3 in /usr/local/lib/python3.6/dist-packages (from pandas>=0.19->statsmodels) (2.8.1)\n",
            "Requirement already satisfied: six in /usr/local/lib/python3.6/dist-packages (from patsy>=0.4.0->statsmodels) (1.15.0)\n"
          ],
          "name": "stdout"
        }
      ]
    },
    {
      "cell_type": "markdown",
      "metadata": {
        "id": "6RiQOzdwrf41"
      },
      "source": [
        "calculating the effect size "
      ]
    },
    {
      "cell_type": "code",
      "metadata": {
        "id": "w7vconTFqQPb",
        "outputId": "27b4569b-b54a-490a-a3bd-cc0c16a2a9fb",
        "colab": {
          "base_uri": "https://localhost:8080/"
        }
      },
      "source": [
        "import math\n",
        "sd=math.sqrt((s_par['BlueCars_taken_sum'].var()+ s_cal['BlueCars_taken_sum'].var()/2))\n",
        "d=(s_par['BlueCars_taken_sum'].mean()-s_cal['BlueCars_taken_sum'].mean())/sd\n",
        "d"
      ],
      "execution_count": 279,
      "outputs": [
        {
          "output_type": "execute_result",
          "data": {
            "text/plain": [
              "0.13788023047368367"
            ]
          },
          "metadata": {
            "tags": []
          },
          "execution_count": 279
        }
      ]
    },
    {
      "cell_type": "code",
      "metadata": {
        "id": "43HTTmV_l6V3",
        "outputId": "0621a63f-c5dd-4341-9575-87c50466cea7",
        "colab": {
          "base_uri": "https://localhost:8080/"
        }
      },
      "source": [
        "from statsmodels.stats.power import tt_ind_solve_power\n",
        "power=tt_ind_solve_power(effect_size=d, nobs1=78, alpha=0.05, ratio=242/78)\n",
        "print('power of the test =',round(power*100,2),'%')"
      ],
      "execution_count": 295,
      "outputs": [
        {
          "output_type": "stream",
          "text": [
            "power of the test = 18.42 %\n"
          ],
          "name": "stdout"
        }
      ]
    }
  ]
}